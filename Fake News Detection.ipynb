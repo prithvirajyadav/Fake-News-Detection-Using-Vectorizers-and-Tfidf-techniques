{
 "cells": [
  {
   "cell_type": "code",
   "execution_count": 1,
   "metadata": {
    "colab": {
     "autoexec": {
      "startup": false,
      "wait_interval": 0
     }
    },
    "colab_type": "code",
    "id": "6sC_SU5feQsD"
   },
   "outputs": [],
   "source": [
    "%matplotlib inline\n",
    "import pandas as pd\n",
    "import numpy as np\n",
    "import nltk                    \n",
    "import string\n",
    "import re\n",
    "import io\n",
    "import matplotlib.pyplot as plt\n",
    "import seaborn as sns\n",
    "from sklearn.feature_extraction.text import TfidfTransformer\n",
    "from sklearn.feature_extraction.text import TfidfVectorizer\n",
    "from sklearn.feature_extraction.text import CountVectorizer\n",
    "from sklearn.metrics import confusion_matrix\n",
    "from sklearn import metrics\n",
    "from sklearn.metrics import roc_curve, auc\n",
    "from nltk.stem.porter import PorterStemmer"
   ]
  },
  {
   "cell_type": "code",
   "execution_count": 2,
   "metadata": {
    "colab": {
     "autoexec": {
      "startup": false,
      "wait_interval": 0
     }
    },
    "colab_type": "code",
    "id": "Y_oS-741ea7o"
   },
   "outputs": [],
   "source": [
    "fake = pd.read_csv(\"data/Fake.csv\")\n",
    "true = pd.read_csv(\"data/True.csv\")"
   ]
  },
  {
   "cell_type": "code",
   "execution_count": 3,
   "metadata": {
    "colab": {
     "autoexec": {
      "startup": false,
      "wait_interval": 0
     },
     "base_uri": "https://localhost:8080/",
     "height": 197
    },
    "colab_type": "code",
    "executionInfo": {
     "elapsed": 879,
     "status": "ok",
     "timestamp": 1530933590602,
     "user": {
      "displayName": "Vijay Bhati",
      "photoUrl": "https://lh3.googleusercontent.com/a/default-user=s128",
      "userId": "106065926741616959388"
     },
     "user_tz": -330
    },
    "id": "7zWaI1gueiMk",
    "outputId": "0c99a3fb-c4b7-4ca9-b50c-000328a82bba"
   },
   "outputs": [],
   "source": [
    "# Add flag to track fake and real\n",
    "fake['target'] = 'fake'\n",
    "true['target'] = 'true'"
   ]
  },
  {
   "cell_type": "code",
   "execution_count": 4,
   "metadata": {
    "colab": {
     "autoexec": {
      "startup": false,
      "wait_interval": 0
     },
     "base_uri": "https://localhost:8080/",
     "height": 287
    },
    "colab_type": "code",
    "executionInfo": {
     "elapsed": 969,
     "status": "ok",
     "timestamp": 1530933592008,
     "user": {
      "displayName": "Vijay Bhati",
      "photoUrl": "https://lh3.googleusercontent.com/a/default-user=s128",
      "userId": "106065926741616959388"
     },
     "user_tz": -330
    },
    "id": "Zs8nL_ayejKm",
    "outputId": "3e491d83-35d4-4887-9187-cb02637d673b"
   },
   "outputs": [
    {
     "data": {
      "text/plain": [
       "(44898, 5)"
      ]
     },
     "execution_count": 4,
     "metadata": {},
     "output_type": "execute_result"
    }
   ],
   "source": [
    "# Concatenate dataframes\n",
    "data = pd.concat([fake, true]).reset_index(drop = True)\n",
    "data.shape"
   ]
  },
  {
   "cell_type": "code",
   "execution_count": 5,
   "metadata": {
    "colab": {
     "autoexec": {
      "startup": false,
      "wait_interval": 0
     },
     "base_uri": "https://localhost:8080/",
     "height": 34
    },
    "colab_type": "code",
    "executionInfo": {
     "elapsed": 1254,
     "status": "ok",
     "timestamp": 1530933593648,
     "user": {
      "displayName": "Vijay Bhati",
      "photoUrl": "https://lh3.googleusercontent.com/a/default-user=s128",
      "userId": "106065926741616959388"
     },
     "user_tz": -330
    },
    "id": "mUAub03Ken5c",
    "outputId": "8098fcf5-ccce-44a8-86ef-bf5ac1403089"
   },
   "outputs": [],
   "source": [
    "# Shuffle the data\n",
    "from sklearn.utils import shuffle\n",
    "data = shuffle(data)\n",
    "data = data.reset_index(drop=True)"
   ]
  },
  {
   "cell_type": "code",
   "execution_count": 6,
   "metadata": {
    "colab": {
     "autoexec": {
      "startup": false,
      "wait_interval": 0
     },
     "base_uri": "https://localhost:8080/",
     "height": 34
    },
    "colab_type": "code",
    "executionInfo": {
     "elapsed": 1052,
     "status": "ok",
     "timestamp": 1530933595091,
     "user": {
      "displayName": "Vijay Bhati",
      "photoUrl": "https://lh3.googleusercontent.com/a/default-user=s128",
      "userId": "106065926741616959388"
     },
     "user_tz": -330
    },
    "id": "zWWNGRbce06o",
    "outputId": "900ae2a5-dcf3-4cba-c5a8-254b6d4a2e9c"
   },
   "outputs": [
    {
     "data": {
      "text/html": [
       "<div>\n",
       "<style scoped>\n",
       "    .dataframe tbody tr th:only-of-type {\n",
       "        vertical-align: middle;\n",
       "    }\n",
       "\n",
       "    .dataframe tbody tr th {\n",
       "        vertical-align: top;\n",
       "    }\n",
       "\n",
       "    .dataframe thead th {\n",
       "        text-align: right;\n",
       "    }\n",
       "</style>\n",
       "<table border=\"1\" class=\"dataframe\">\n",
       "  <thead>\n",
       "    <tr style=\"text-align: right;\">\n",
       "      <th></th>\n",
       "      <th>title</th>\n",
       "      <th>text</th>\n",
       "      <th>subject</th>\n",
       "      <th>date</th>\n",
       "      <th>target</th>\n",
       "    </tr>\n",
       "  </thead>\n",
       "  <tbody>\n",
       "    <tr>\n",
       "      <th>0</th>\n",
       "      <td>BRITISH ACTRESS NAILS IT: Do you think ISIS ca...</td>\n",
       "      <td>Pathetic Predictably impotent. We are not unit...</td>\n",
       "      <td>politics</td>\n",
       "      <td>Jul 15, 2016</td>\n",
       "      <td>fake</td>\n",
       "    </tr>\n",
       "    <tr>\n",
       "      <th>1</th>\n",
       "      <td>Two Weeks Before Election, Trump Still Defend...</td>\n",
       "      <td>Sunday morning, after what must have seemed li...</td>\n",
       "      <td>News</td>\n",
       "      <td>November 26, 2017</td>\n",
       "      <td>fake</td>\n",
       "    </tr>\n",
       "    <tr>\n",
       "      <th>2</th>\n",
       "      <td>Asian viewers give nod to Clinton after first ...</td>\n",
       "      <td>BEIJING/TOKYO (Reuters) - Hillary Clinton put ...</td>\n",
       "      <td>politicsNews</td>\n",
       "      <td>September 27, 2016</td>\n",
       "      <td>true</td>\n",
       "    </tr>\n",
       "    <tr>\n",
       "      <th>3</th>\n",
       "      <td>U.S. top diplomat to visit Asia as part of Tru...</td>\n",
       "      <td>WASHINGTON (Reuters) - U.S. Secretary of State...</td>\n",
       "      <td>worldnews</td>\n",
       "      <td>November 2, 2017</td>\n",
       "      <td>true</td>\n",
       "    </tr>\n",
       "    <tr>\n",
       "      <th>4</th>\n",
       "      <td>UK PM May concerned by reports of sexual haras...</td>\n",
       "      <td>LONDON (Reuters) - British Prime Minister Ther...</td>\n",
       "      <td>worldnews</td>\n",
       "      <td>October 27, 2017</td>\n",
       "      <td>true</td>\n",
       "    </tr>\n",
       "  </tbody>\n",
       "</table>\n",
       "</div>"
      ],
      "text/plain": [
       "                                               title  \\\n",
       "0  BRITISH ACTRESS NAILS IT: Do you think ISIS ca...   \n",
       "1   Two Weeks Before Election, Trump Still Defend...   \n",
       "2  Asian viewers give nod to Clinton after first ...   \n",
       "3  U.S. top diplomat to visit Asia as part of Tru...   \n",
       "4  UK PM May concerned by reports of sexual haras...   \n",
       "\n",
       "                                                text       subject  \\\n",
       "0  Pathetic Predictably impotent. We are not unit...      politics   \n",
       "1  Sunday morning, after what must have seemed li...          News   \n",
       "2  BEIJING/TOKYO (Reuters) - Hillary Clinton put ...  politicsNews   \n",
       "3  WASHINGTON (Reuters) - U.S. Secretary of State...     worldnews   \n",
       "4  LONDON (Reuters) - British Prime Minister Ther...     worldnews   \n",
       "\n",
       "                  date target  \n",
       "0         Jul 15, 2016   fake  \n",
       "1    November 26, 2017   fake  \n",
       "2  September 27, 2016    true  \n",
       "3    November 2, 2017    true  \n",
       "4    October 27, 2017    true  "
      ]
     },
     "execution_count": 6,
     "metadata": {},
     "output_type": "execute_result"
    }
   ],
   "source": [
    "# Check the data\n",
    "data.head()"
   ]
  },
  {
   "cell_type": "code",
   "execution_count": 7,
   "metadata": {},
   "outputs": [
    {
     "data": {
      "text/html": [
       "<div>\n",
       "<style scoped>\n",
       "    .dataframe tbody tr th:only-of-type {\n",
       "        vertical-align: middle;\n",
       "    }\n",
       "\n",
       "    .dataframe tbody tr th {\n",
       "        vertical-align: top;\n",
       "    }\n",
       "\n",
       "    .dataframe thead th {\n",
       "        text-align: right;\n",
       "    }\n",
       "</style>\n",
       "<table border=\"1\" class=\"dataframe\">\n",
       "  <thead>\n",
       "    <tr style=\"text-align: right;\">\n",
       "      <th></th>\n",
       "      <th>title</th>\n",
       "      <th>text</th>\n",
       "      <th>subject</th>\n",
       "      <th>target</th>\n",
       "    </tr>\n",
       "  </thead>\n",
       "  <tbody>\n",
       "    <tr>\n",
       "      <th>0</th>\n",
       "      <td>BRITISH ACTRESS NAILS IT: Do you think ISIS ca...</td>\n",
       "      <td>Pathetic Predictably impotent. We are not unit...</td>\n",
       "      <td>politics</td>\n",
       "      <td>fake</td>\n",
       "    </tr>\n",
       "    <tr>\n",
       "      <th>1</th>\n",
       "      <td>Two Weeks Before Election, Trump Still Defend...</td>\n",
       "      <td>Sunday morning, after what must have seemed li...</td>\n",
       "      <td>News</td>\n",
       "      <td>fake</td>\n",
       "    </tr>\n",
       "    <tr>\n",
       "      <th>2</th>\n",
       "      <td>Asian viewers give nod to Clinton after first ...</td>\n",
       "      <td>BEIJING/TOKYO (Reuters) - Hillary Clinton put ...</td>\n",
       "      <td>politicsNews</td>\n",
       "      <td>true</td>\n",
       "    </tr>\n",
       "    <tr>\n",
       "      <th>3</th>\n",
       "      <td>U.S. top diplomat to visit Asia as part of Tru...</td>\n",
       "      <td>WASHINGTON (Reuters) - U.S. Secretary of State...</td>\n",
       "      <td>worldnews</td>\n",
       "      <td>true</td>\n",
       "    </tr>\n",
       "    <tr>\n",
       "      <th>4</th>\n",
       "      <td>UK PM May concerned by reports of sexual haras...</td>\n",
       "      <td>LONDON (Reuters) - British Prime Minister Ther...</td>\n",
       "      <td>worldnews</td>\n",
       "      <td>true</td>\n",
       "    </tr>\n",
       "  </tbody>\n",
       "</table>\n",
       "</div>"
      ],
      "text/plain": [
       "                                               title  \\\n",
       "0  BRITISH ACTRESS NAILS IT: Do you think ISIS ca...   \n",
       "1   Two Weeks Before Election, Trump Still Defend...   \n",
       "2  Asian viewers give nod to Clinton after first ...   \n",
       "3  U.S. top diplomat to visit Asia as part of Tru...   \n",
       "4  UK PM May concerned by reports of sexual haras...   \n",
       "\n",
       "                                                text       subject target  \n",
       "0  Pathetic Predictably impotent. We are not unit...      politics   fake  \n",
       "1  Sunday morning, after what must have seemed li...          News   fake  \n",
       "2  BEIJING/TOKYO (Reuters) - Hillary Clinton put ...  politicsNews   true  \n",
       "3  WASHINGTON (Reuters) - U.S. Secretary of State...     worldnews   true  \n",
       "4  LONDON (Reuters) - British Prime Minister Ther...     worldnews   true  "
      ]
     },
     "execution_count": 7,
     "metadata": {},
     "output_type": "execute_result"
    }
   ],
   "source": [
    "# Removing the date (we won't use it for the analysis)\n",
    "data.drop([\"date\"],axis=1,inplace=True)\n",
    "data.head()"
   ]
  },
  {
   "cell_type": "code",
   "execution_count": 8,
   "metadata": {},
   "outputs": [
    {
     "data": {
      "text/html": [
       "<div>\n",
       "<style scoped>\n",
       "    .dataframe tbody tr th:only-of-type {\n",
       "        vertical-align: middle;\n",
       "    }\n",
       "\n",
       "    .dataframe tbody tr th {\n",
       "        vertical-align: top;\n",
       "    }\n",
       "\n",
       "    .dataframe thead th {\n",
       "        text-align: right;\n",
       "    }\n",
       "</style>\n",
       "<table border=\"1\" class=\"dataframe\">\n",
       "  <thead>\n",
       "    <tr style=\"text-align: right;\">\n",
       "      <th></th>\n",
       "      <th>text</th>\n",
       "      <th>subject</th>\n",
       "      <th>target</th>\n",
       "    </tr>\n",
       "  </thead>\n",
       "  <tbody>\n",
       "    <tr>\n",
       "      <th>0</th>\n",
       "      <td>Pathetic Predictably impotent. We are not unit...</td>\n",
       "      <td>politics</td>\n",
       "      <td>fake</td>\n",
       "    </tr>\n",
       "    <tr>\n",
       "      <th>1</th>\n",
       "      <td>Sunday morning, after what must have seemed li...</td>\n",
       "      <td>News</td>\n",
       "      <td>fake</td>\n",
       "    </tr>\n",
       "    <tr>\n",
       "      <th>2</th>\n",
       "      <td>BEIJING/TOKYO (Reuters) - Hillary Clinton put ...</td>\n",
       "      <td>politicsNews</td>\n",
       "      <td>true</td>\n",
       "    </tr>\n",
       "    <tr>\n",
       "      <th>3</th>\n",
       "      <td>WASHINGTON (Reuters) - U.S. Secretary of State...</td>\n",
       "      <td>worldnews</td>\n",
       "      <td>true</td>\n",
       "    </tr>\n",
       "    <tr>\n",
       "      <th>4</th>\n",
       "      <td>LONDON (Reuters) - British Prime Minister Ther...</td>\n",
       "      <td>worldnews</td>\n",
       "      <td>true</td>\n",
       "    </tr>\n",
       "  </tbody>\n",
       "</table>\n",
       "</div>"
      ],
      "text/plain": [
       "                                                text       subject target\n",
       "0  Pathetic Predictably impotent. We are not unit...      politics   fake\n",
       "1  Sunday morning, after what must have seemed li...          News   fake\n",
       "2  BEIJING/TOKYO (Reuters) - Hillary Clinton put ...  politicsNews   true\n",
       "3  WASHINGTON (Reuters) - U.S. Secretary of State...     worldnews   true\n",
       "4  LONDON (Reuters) - British Prime Minister Ther...     worldnews   true"
      ]
     },
     "execution_count": 8,
     "metadata": {},
     "output_type": "execute_result"
    }
   ],
   "source": [
    "# Removing the title (we will only use the text)\n",
    "data.drop([\"title\"],axis=1,inplace=True)\n",
    "data.head()"
   ]
  },
  {
   "cell_type": "code",
   "execution_count": 9,
   "metadata": {
    "colab": {
     "autoexec": {
      "startup": false,
      "wait_interval": 0
     }
    },
    "colab_type": "code",
    "id": "ZJmfq0yee-0H"
   },
   "outputs": [],
   "source": [
    "data['target_num'] = data['target'].map(lambda x: 1 if x == \"true\" else 0)"
   ]
  },
  {
   "cell_type": "code",
   "execution_count": 10,
   "metadata": {
    "colab": {
     "autoexec": {
      "startup": false,
      "wait_interval": 0
     },
     "base_uri": "https://localhost:8080/",
     "height": 197
    },
    "colab_type": "code",
    "executionInfo": {
     "elapsed": 1386,
     "status": "ok",
     "timestamp": 1530933598642,
     "user": {
      "displayName": "Vijay Bhati",
      "photoUrl": "https://lh3.googleusercontent.com/a/default-user=s128",
      "userId": "106065926741616959388"
     },
     "user_tz": -330
    },
    "id": "gi49axZAgE5M",
    "outputId": "81ff6ddc-9b94-4a03-8b03-e2ec6dd112d9"
   },
   "outputs": [
    {
     "data": {
      "text/html": [
       "<div>\n",
       "<style scoped>\n",
       "    .dataframe tbody tr th:only-of-type {\n",
       "        vertical-align: middle;\n",
       "    }\n",
       "\n",
       "    .dataframe tbody tr th {\n",
       "        vertical-align: top;\n",
       "    }\n",
       "\n",
       "    .dataframe thead th {\n",
       "        text-align: right;\n",
       "    }\n",
       "</style>\n",
       "<table border=\"1\" class=\"dataframe\">\n",
       "  <thead>\n",
       "    <tr style=\"text-align: right;\">\n",
       "      <th></th>\n",
       "      <th>text</th>\n",
       "      <th>subject</th>\n",
       "      <th>target</th>\n",
       "      <th>target_num</th>\n",
       "    </tr>\n",
       "  </thead>\n",
       "  <tbody>\n",
       "    <tr>\n",
       "      <th>0</th>\n",
       "      <td>Pathetic Predictably impotent. We are not unit...</td>\n",
       "      <td>politics</td>\n",
       "      <td>fake</td>\n",
       "      <td>0</td>\n",
       "    </tr>\n",
       "    <tr>\n",
       "      <th>1</th>\n",
       "      <td>Sunday morning, after what must have seemed li...</td>\n",
       "      <td>News</td>\n",
       "      <td>fake</td>\n",
       "      <td>0</td>\n",
       "    </tr>\n",
       "    <tr>\n",
       "      <th>2</th>\n",
       "      <td>BEIJING/TOKYO (Reuters) - Hillary Clinton put ...</td>\n",
       "      <td>politicsNews</td>\n",
       "      <td>true</td>\n",
       "      <td>1</td>\n",
       "    </tr>\n",
       "    <tr>\n",
       "      <th>3</th>\n",
       "      <td>WASHINGTON (Reuters) - U.S. Secretary of State...</td>\n",
       "      <td>worldnews</td>\n",
       "      <td>true</td>\n",
       "      <td>1</td>\n",
       "    </tr>\n",
       "    <tr>\n",
       "      <th>4</th>\n",
       "      <td>LONDON (Reuters) - British Prime Minister Ther...</td>\n",
       "      <td>worldnews</td>\n",
       "      <td>true</td>\n",
       "      <td>1</td>\n",
       "    </tr>\n",
       "  </tbody>\n",
       "</table>\n",
       "</div>"
      ],
      "text/plain": [
       "                                                text       subject target  \\\n",
       "0  Pathetic Predictably impotent. We are not unit...      politics   fake   \n",
       "1  Sunday morning, after what must have seemed li...          News   fake   \n",
       "2  BEIJING/TOKYO (Reuters) - Hillary Clinton put ...  politicsNews   true   \n",
       "3  WASHINGTON (Reuters) - U.S. Secretary of State...     worldnews   true   \n",
       "4  LONDON (Reuters) - British Prime Minister Ther...     worldnews   true   \n",
       "\n",
       "   target_num  \n",
       "0           0  \n",
       "1           0  \n",
       "2           1  \n",
       "3           1  \n",
       "4           1  "
      ]
     },
     "execution_count": 10,
     "metadata": {},
     "output_type": "execute_result"
    }
   ],
   "source": [
    "data.head()"
   ]
  },
  {
   "cell_type": "code",
   "execution_count": 11,
   "metadata": {
    "colab": {
     "autoexec": {
      "startup": false,
      "wait_interval": 0
     },
     "base_uri": "https://localhost:8080/",
     "height": 278
    },
    "colab_type": "code",
    "executionInfo": {
     "elapsed": 1614,
     "status": "ok",
     "timestamp": 1530933601359,
     "user": {
      "displayName": "Vijay Bhati",
      "photoUrl": "https://lh3.googleusercontent.com/a/default-user=s128",
      "userId": "106065926741616959388"
     },
     "user_tz": -330
    },
    "id": "jSOeZqMYge03",
    "outputId": "b6b8b730-a174-4294-f94b-d41941e7651b"
   },
   "outputs": [
    {
     "name": "stderr",
     "output_type": "stream",
     "text": [
      "C:\\Users\\Prithvi Raj Yadav\\anaconda3\\lib\\site-packages\\seaborn\\distributions.py:2551: FutureWarning: `distplot` is a deprecated function and will be removed in a future version. Please adapt your code to use either `displot` (a figure-level function with similar flexibility) or `histplot` (an axes-level function for histograms).\n",
      "  warnings.warn(msg, FutureWarning)\n"
     ]
    },
    {
     "data": {
      "image/png": "[encoded data removed]",
      "text/plain": [
       "<Figure size 432x288 with 1 Axes>"
      ]
     },
     "metadata": {
      "needs_background": "light"
     },
     "output_type": "display_data"
    }
   ],
   "source": [
    "sns.distplot(data['target_num'],bins=10)\n",
    "plt.show()"
   ]
  },
  {
   "cell_type": "markdown",
   "metadata": {
    "colab_type": "text",
    "id": "_kbgfbxgkYP3"
   },
   "source": [
    "# 1) Text Preprocessing\n",
    "\n",
    "## (i) HTML Tag Removal"
   ]
  },
  {
   "cell_type": "code",
   "execution_count": 12,
   "metadata": {
    "colab": {
     "autoexec": {
      "startup": false,
      "wait_interval": 0
     }
    },
    "colab_type": "code",
    "id": "g2zVfRE-hevy"
   },
   "outputs": [],
   "source": [
    "import re\n",
    "# cleaning html symbols from the sentence\n",
    "def cleanhtml(sentence):\n",
    "    cleanr = re.compile('<.*?>')\n",
    "    cleantext = re.sub(cleanr, ' ', sentence)\n",
    "    return cleantext"
   ]
  },
  {
   "cell_type": "markdown",
   "metadata": {
    "colab_type": "text",
    "id": "tt02UKoJkqF-"
   },
   "source": [
    "## (ii) Punctuations Removal"
   ]
  },
  {
   "cell_type": "code",
   "execution_count": 13,
   "metadata": {
    "colab": {
     "autoexec": {
      "startup": false,
      "wait_interval": 0
     }
    },
    "colab_type": "code",
    "id": "aA4ds_1JkkTM"
   },
   "outputs": [],
   "source": [
    "# cleaning punctuations from the sentence\n",
    "def cleanpunc(sentence):\n",
    "    cleaned = re.sub(r'[?|!|\\'|\"|#]',r'',sentence)\n",
    "    cleaned = re.sub(r'[.|,|)|(|\\|/]',r' ',cleaned)\n",
    "    return  cleaned"
   ]
  },
  {
   "cell_type": "markdown",
   "metadata": {
    "colab_type": "text",
    "id": "DUMGv9uQk1vC"
   },
   "source": [
    "## (iiI) Stopwords\n",
    "\n",
    "* A stop word is a commonly used word (such as “the”, “a”, “an”, “in”) that a search engine has been programmed to ignore, both when indexing entries for searching and when retrieving them as the result of a search query."
   ]
  },
  {
   "cell_type": "code",
   "execution_count": 14,
   "metadata": {
    "colab": {
     "autoexec": {
      "startup": false,
      "wait_interval": 0
     },
     "base_uri": "https://localhost:8080/",
     "height": 90
    },
    "colab_type": "code",
    "executionInfo": {
     "elapsed": 2461,
     "status": "ok",
     "timestamp": 1530933616542,
     "user": {
      "displayName": "Vijay Bhati",
      "photoUrl": "https://lh3.googleusercontent.com/a/default-user=s128",
      "userId": "106065926741616959388"
     },
     "user_tz": -330
    },
    "id": "FA7RXD39kv_i",
    "outputId": "0d27ae4f-18cb-43cd-ae0e-f2a4936eee14"
   },
   "outputs": [
    {
     "name": "stdout",
     "output_type": "stream",
     "text": [
      "['i', 'me', 'my', 'myself', 'we', 'our', 'ours', 'ourselves', 'you', \"you're\", \"you've\", \"you'll\", \"you'd\", 'your', 'yours', 'yourself', 'yourselves', 'he', 'him', 'his', 'himself', 'she', \"she's\", 'her', 'hers', 'herself', 'it', \"it's\", 'its', 'itself', 'they', 'them', 'their', 'theirs', 'themselves', 'what', 'which', 'who', 'whom', 'this', 'that', \"that'll\", 'these', 'those', 'am', 'is', 'are', 'was', 'were', 'be', 'been', 'being', 'have', 'has', 'had', 'having', 'do', 'does', 'did', 'doing', 'a', 'an', 'the', 'and', 'but', 'if', 'or', 'because', 'as', 'until', 'while', 'of', 'at', 'by', 'for', 'with', 'about', 'between', 'into', 'through', 'during', 'before', 'after', 'above', 'below', 'to', 'from', 'up', 'down', 'in', 'out', 'on', 'off', 'over', 'under', 'again', 'further', 'then', 'once', 'here', 'there', 'when', 'where', 'why', 'how', 'all', 'any', 'both', 'each', 'few', 'more', 'most', 'other', 'some', 'such', 'no', 'nor', 'only', 'own', 'same', 'so', 'than', 'too', 'very', 's', 't', 'can', 'will', 'just', 'should', \"should've\", 'now', 'd', 'll', 'm', 'o', 're', 've', 'y', 'ma', 'shan', \"shan't\"]\n"
     ]
    },
    {
     "name": "stderr",
     "output_type": "stream",
     "text": [
      "[nltk_data] Downloading package stopwords to C:\\Users\\Prithvi Raj\n",
      "[nltk_data]     Yadav\\AppData\\Roaming\\nltk_data...\n",
      "[nltk_data]   Package stopwords is already up-to-date!\n"
     ]
    }
   ],
   "source": [
    "import nltk\n",
    "nltk.download('stopwords')\n",
    "from nltk.corpus import stopwords\n",
    "from nltk.stem import PorterStemmer\n",
    "from nltk.stem.wordnet import WordNetLemmatizer\n",
    "\n",
    "stop = stopwords.words('english') #All the stopwords in English language\n",
    "#excluding some useful words from stop words list as we doing sentiment analysis\n",
    "excluding = ['against','not','don', \"don't\",'ain', 'aren', \"aren't\", 'couldn', \"couldn't\", 'didn', \"didn't\",\n",
    "             'doesn', \"doesn't\", 'hadn', \"hadn't\", 'hasn', \"hasn't\", 'haven', \"haven't\", 'isn', \"isn't\", \n",
    "             'mightn', \"mightn't\", 'mustn', \"mustn't\", 'needn', \"needn't\",'shouldn', \"shouldn't\", 'wasn',\n",
    "             \"wasn't\", 'weren', \"weren't\", 'won', \"won't\", 'wouldn', \"wouldn't\"]\n",
    "stop = [words for words in stop if words not in excluding]\n",
    "print(stop)"
   ]
  },
  {
   "cell_type": "markdown",
   "metadata": {
    "colab_type": "text",
    "id": "F2g-u43wk960"
   },
   "source": [
    "## (iv) Stemming\n",
    "\n",
    "* A word stem is part of a word. It is sort of a normalization idea, but linguistic.\n",
    "For example, the stem of the word waiting is wait."
   ]
  },
  {
   "cell_type": "code",
   "execution_count": 15,
   "metadata": {
    "colab": {
     "autoexec": {
      "startup": false,
      "wait_interval": 0
     }
    },
    "colab_type": "code",
    "id": "3WNaz-A6k6K5"
   },
   "outputs": [],
   "source": [
    "from nltk.stem import SnowballStemmer\n",
    "snow = SnowballStemmer('english') #initialising the snowball stemmer"
   ]
  },
  {
   "cell_type": "code",
   "execution_count": 16,
   "metadata": {
    "colab": {
     "autoexec": {
      "startup": false,
      "wait_interval": 0
     },
     "base_uri": "https://localhost:8080/",
     "height": 34
    },
    "colab_type": "code",
    "executionInfo": {
     "elapsed": 4172,
     "status": "ok",
     "timestamp": 1530933625742,
     "user": {
      "displayName": "Vijay Bhati",
      "photoUrl": "https://lh3.googleusercontent.com/a/default-user=s128",
      "userId": "106065926741616959388"
     },
     "user_tz": -330
    },
    "id": "Gp2eqYh4lK9P",
    "outputId": "6ed4e42a-553b-4ab8-ff35-fdadcf48e5cb"
   },
   "outputs": [
    {
     "name": "stdout",
     "output_type": "stream",
     "text": [
      "secretari\n"
     ]
    }
   ],
   "source": [
    "print(snow.stem('Secretary')) #same meaning word with different spellings"
   ]
  },
  {
   "cell_type": "markdown",
   "metadata": {
    "colab_type": "text",
    "id": "Dim0yL5jl45G"
   },
   "source": [
    "# PreProcessing on all the news"
   ]
  },
  {
   "cell_type": "code",
   "execution_count": 17,
   "metadata": {
    "colab": {
     "autoexec": {
      "startup": false,
      "wait_interval": 0
     }
    },
    "colab_type": "code",
    "id": "Cw8On-UVlRcO"
   },
   "outputs": [],
   "source": [
    "i = 0\n",
    "string1 = ' '\n",
    "final_string = []\n",
    "fake_words = []                \n",
    "real_words = []\n",
    "s = ''\n",
    "\n",
    "for sent in data['text'].values:\n",
    "    filtered_sentence = []\n",
    "    sent = cleanhtml(sent)\n",
    "    sent = cleanpunc(sent)\n",
    "    for w in sent.split():\n",
    "        if((w.isalpha()) and (len(w)>2)):  \n",
    "            if(w.lower() not in stop):    # If it is a stopword\n",
    "                s = (snow.stem(w.lower())).encode('utf8')\n",
    "                filtered_sentence.append(s)\n",
    "                if (data['target'].values)[i] == 'true':\n",
    "                    real_words.append(s)\n",
    "                if(data['target'].values)[i] == 'fake':\n",
    "                    fake_words.append(s)\n",
    "            else:\n",
    "                continue\n",
    "        else:\n",
    "            continue \n",
    "    string1 = b\" \".join(filtered_sentence) \n",
    "    final_string.append(string1)\n",
    "    i += 1"
   ]
  },
  {
   "cell_type": "markdown",
   "metadata": {
    "colab_type": "text",
    "id": "3lHZ01cSnJLg"
   },
   "source": [
    "# Fake and Real words in text"
   ]
  },
  {
   "cell_type": "code",
   "execution_count": 18,
   "metadata": {
    "colab": {
     "autoexec": {
      "startup": false,
      "wait_interval": 0
     },
     "base_uri": "https://localhost:8080/",
     "height": 52
    },
    "colab_type": "code",
    "executionInfo": {
     "elapsed": 1083,
     "status": "ok",
     "timestamp": 1530933703128,
     "user": {
      "displayName": "Vijay Bhati",
      "photoUrl": "https://lh3.googleusercontent.com/a/default-user=s128",
      "userId": "106065926741616959388"
     },
     "user_tz": -330
    },
    "id": "PWIt-dilm1Ht",
    "outputId": "95228997-836c-4529-b770-394fb37675e7"
   },
   "outputs": [
    {
     "name": "stdout",
     "output_type": "stream",
     "text": [
      "Number of Real words:  4654616\n",
      "Number of Fake words:  5337297\n"
     ]
    }
   ],
   "source": [
    "from collections import Counter\n",
    "print(\"Number of Real words: \", len(real_words))\n",
    "print(\"Number of Fake words: \", len(fake_words))"
   ]
  },
  {
   "cell_type": "code",
   "execution_count": 19,
   "metadata": {
    "colab": {
     "autoexec": {
      "startup": false,
      "wait_interval": 0
     },
     "base_uri": "https://localhost:8080/",
     "height": 304
    },
    "colab_type": "code",
    "executionInfo": {
     "elapsed": 1632,
     "status": "ok",
     "timestamp": 1530933705564,
     "user": {
      "displayName": "Vijay Bhati",
      "photoUrl": "https://lh3.googleusercontent.com/a/default-user=s128",
      "userId": "106065926741616959388"
     },
     "user_tz": -330
    },
    "id": "40sl4JwinjQS",
    "outputId": "a72c6649-ca23-4236-853e-f8ad3315d5e2"
   },
   "outputs": [
    {
     "data": {
      "text/html": [
       "<div>\n",
       "<style scoped>\n",
       "    .dataframe tbody tr th:only-of-type {\n",
       "        vertical-align: middle;\n",
       "    }\n",
       "\n",
       "    .dataframe tbody tr th {\n",
       "        vertical-align: top;\n",
       "    }\n",
       "\n",
       "    .dataframe thead th {\n",
       "        text-align: right;\n",
       "    }\n",
       "</style>\n",
       "<table border=\"1\" class=\"dataframe\">\n",
       "  <thead>\n",
       "    <tr style=\"text-align: right;\">\n",
       "      <th></th>\n",
       "      <th>text</th>\n",
       "      <th>subject</th>\n",
       "      <th>target</th>\n",
       "      <th>target_num</th>\n",
       "      <th>CleanedText</th>\n",
       "    </tr>\n",
       "  </thead>\n",
       "  <tbody>\n",
       "    <tr>\n",
       "      <th>0</th>\n",
       "      <td>Pathetic Predictably impotent. We are not unit...</td>\n",
       "      <td>politics</td>\n",
       "      <td>fake</td>\n",
       "      <td>0</td>\n",
       "      <td>b'pathet predict impot not unit divid not stan...</td>\n",
       "    </tr>\n",
       "    <tr>\n",
       "      <th>1</th>\n",
       "      <td>Sunday morning, after what must have seemed li...</td>\n",
       "      <td>News</td>\n",
       "      <td>fake</td>\n",
       "      <td>0</td>\n",
       "      <td>b'sunday morn must seem like anoth intermin we...</td>\n",
       "    </tr>\n",
       "    <tr>\n",
       "      <th>2</th>\n",
       "      <td>BEIJING/TOKYO (Reuters) - Hillary Clinton put ...</td>\n",
       "      <td>politicsNews</td>\n",
       "      <td>true</td>\n",
       "      <td>1</td>\n",
       "      <td>b'beij tokyo reuter hillari clinton put donald...</td>\n",
       "    </tr>\n",
       "    <tr>\n",
       "      <th>3</th>\n",
       "      <td>WASHINGTON (Reuters) - U.S. Secretary of State...</td>\n",
       "      <td>worldnews</td>\n",
       "      <td>true</td>\n",
       "      <td>1</td>\n",
       "      <td>b'washington reuter secretari state rex tiller...</td>\n",
       "    </tr>\n",
       "    <tr>\n",
       "      <th>4</th>\n",
       "      <td>LONDON (Reuters) - British Prime Minister Ther...</td>\n",
       "      <td>worldnews</td>\n",
       "      <td>true</td>\n",
       "      <td>1</td>\n",
       "      <td>b'london reuter british prime minist theresa m...</td>\n",
       "    </tr>\n",
       "  </tbody>\n",
       "</table>\n",
       "</div>"
      ],
      "text/plain": [
       "                                                text       subject target  \\\n",
       "0  Pathetic Predictably impotent. We are not unit...      politics   fake   \n",
       "1  Sunday morning, after what must have seemed li...          News   fake   \n",
       "2  BEIJING/TOKYO (Reuters) - Hillary Clinton put ...  politicsNews   true   \n",
       "3  WASHINGTON (Reuters) - U.S. Secretary of State...     worldnews   true   \n",
       "4  LONDON (Reuters) - British Prime Minister Ther...     worldnews   true   \n",
       "\n",
       "   target_num                                        CleanedText  \n",
       "0           0  b'pathet predict impot not unit divid not stan...  \n",
       "1           0  b'sunday morn must seem like anoth intermin we...  \n",
       "2           1  b'beij tokyo reuter hillari clinton put donald...  \n",
       "3           1  b'washington reuter secretari state rex tiller...  \n",
       "4           1  b'london reuter british prime minist theresa m...  "
      ]
     },
     "execution_count": 19,
     "metadata": {},
     "output_type": "execute_result"
    }
   ],
   "source": [
    "data['CleanedText'] = final_string\n",
    "data.head()"
   ]
  },
  {
   "cell_type": "code",
   "execution_count": 20,
   "metadata": {
    "colab": {
     "autoexec": {
      "startup": false,
      "wait_interval": 0
     }
    },
    "colab_type": "code",
    "id": "_Xr21H43oDle"
   },
   "outputs": [],
   "source": [
    "# without stem\n",
    "i = 0\n",
    "string1 = ' '\n",
    "final_string_nostem = []\n",
    "s = ''\n",
    "\n",
    "for sent in data['text'].values:\n",
    "    filtered_sentence=[]\n",
    "    sent = cleanhtml(sent)\n",
    "    sent = cleanpunc(sent)\n",
    "    for w in sent.split():\n",
    "        if((w.isalpha()) and (len(w)>2)):  \n",
    "            if(w.lower() not in stop):\n",
    "                s = w.lower().encode('utf8')\n",
    "                filtered_sentence.append(s)\n",
    "            else:\n",
    "                continue\n",
    "        else:\n",
    "            continue \n",
    "    string1 = b\" \".join(filtered_sentence)     \n",
    "    final_string_nostem.append(string1)\n",
    "    i += 1"
   ]
  },
  {
   "cell_type": "code",
   "execution_count": 21,
   "metadata": {
    "colab": {
     "autoexec": {
      "startup": false,
      "wait_interval": 0
     },
     "base_uri": "https://localhost:8080/",
     "height": 123
    },
    "colab_type": "code",
    "executionInfo": {
     "elapsed": 931,
     "status": "ok",
     "timestamp": 1530933719896,
     "user": {
      "displayName": "Vijay Bhati",
      "photoUrl": "https://lh3.googleusercontent.com/a/default-user=s128",
      "userId": "106065926741616959388"
     },
     "user_tz": -330
    },
    "id": "PSmxnaWXohj2",
    "outputId": "cbad434f-c56f-4ebd-ef74-1e81c5e40508"
   },
   "outputs": [],
   "source": [
    "data['CleanedText_NoStem'] = final_string_nostem"
   ]
  },
  {
   "cell_type": "code",
   "execution_count": 22,
   "metadata": {
    "colab": {
     "autoexec": {
      "startup": false,
      "wait_interval": 0
     },
     "base_uri": "https://localhost:8080/",
     "height": 204
    },
    "colab_type": "code",
    "executionInfo": {
     "elapsed": 1124,
     "status": "ok",
     "timestamp": 1530933722041,
     "user": {
      "displayName": "Vijay Bhati",
      "photoUrl": "https://lh3.googleusercontent.com/a/default-user=s128",
      "userId": "106065926741616959388"
     },
     "user_tz": -330
    },
    "id": "rJWFHLZrotwf",
    "outputId": "3d33ef0a-d549-4c66-e642-8d1a5867ccb1"
   },
   "outputs": [
    {
     "data": {
      "text/html": [
       "<div>\n",
       "<style scoped>\n",
       "    .dataframe tbody tr th:only-of-type {\n",
       "        vertical-align: middle;\n",
       "    }\n",
       "\n",
       "    .dataframe tbody tr th {\n",
       "        vertical-align: top;\n",
       "    }\n",
       "\n",
       "    .dataframe thead th {\n",
       "        text-align: right;\n",
       "    }\n",
       "</style>\n",
       "<table border=\"1\" class=\"dataframe\">\n",
       "  <thead>\n",
       "    <tr style=\"text-align: right;\">\n",
       "      <th></th>\n",
       "      <th>text</th>\n",
       "      <th>subject</th>\n",
       "      <th>target</th>\n",
       "      <th>target_num</th>\n",
       "      <th>CleanedText</th>\n",
       "      <th>CleanedText_NoStem</th>\n",
       "    </tr>\n",
       "  </thead>\n",
       "  <tbody>\n",
       "    <tr>\n",
       "      <th>0</th>\n",
       "      <td>Pathetic Predictably impotent. We are not unit...</td>\n",
       "      <td>politics</td>\n",
       "      <td>fake</td>\n",
       "      <td>0</td>\n",
       "      <td>b'pathet predict impot not unit divid not stan...</td>\n",
       "      <td>b'pathetic predictably impotent not united div...</td>\n",
       "    </tr>\n",
       "    <tr>\n",
       "      <th>1</th>\n",
       "      <td>Sunday morning, after what must have seemed li...</td>\n",
       "      <td>News</td>\n",
       "      <td>fake</td>\n",
       "      <td>0</td>\n",
       "      <td>b'sunday morn must seem like anoth intermin we...</td>\n",
       "      <td>b'sunday morning must seemed like another inte...</td>\n",
       "    </tr>\n",
       "    <tr>\n",
       "      <th>2</th>\n",
       "      <td>BEIJING/TOKYO (Reuters) - Hillary Clinton put ...</td>\n",
       "      <td>politicsNews</td>\n",
       "      <td>true</td>\n",
       "      <td>1</td>\n",
       "      <td>b'beij tokyo reuter hillari clinton put donald...</td>\n",
       "      <td>b'beijing tokyo reuters hillary clinton put do...</td>\n",
       "    </tr>\n",
       "    <tr>\n",
       "      <th>3</th>\n",
       "      <td>WASHINGTON (Reuters) - U.S. Secretary of State...</td>\n",
       "      <td>worldnews</td>\n",
       "      <td>true</td>\n",
       "      <td>1</td>\n",
       "      <td>b'washington reuter secretari state rex tiller...</td>\n",
       "      <td>b'washington reuters secretary state rex tille...</td>\n",
       "    </tr>\n",
       "    <tr>\n",
       "      <th>4</th>\n",
       "      <td>LONDON (Reuters) - British Prime Minister Ther...</td>\n",
       "      <td>worldnews</td>\n",
       "      <td>true</td>\n",
       "      <td>1</td>\n",
       "      <td>b'london reuter british prime minist theresa m...</td>\n",
       "      <td>b'london reuters british prime minister theres...</td>\n",
       "    </tr>\n",
       "    <tr>\n",
       "      <th>5</th>\n",
       "      <td>Republicans are beginning to jump ship, and ar...</td>\n",
       "      <td>News</td>\n",
       "      <td>fake</td>\n",
       "      <td>0</td>\n",
       "      <td>b'republican begin jump ship becom member grow...</td>\n",
       "      <td>b'republicans beginning jump ship becoming mem...</td>\n",
       "    </tr>\n",
       "    <tr>\n",
       "      <th>6</th>\n",
       "      <td>There s nothing odd about Donald Trump getting...</td>\n",
       "      <td>News</td>\n",
       "      <td>fake</td>\n",
       "      <td>0</td>\n",
       "      <td>b'noth odd donald trump get blast day day medi...</td>\n",
       "      <td>b'nothing odd donald trump getting blasted day...</td>\n",
       "    </tr>\n",
       "    <tr>\n",
       "      <th>7</th>\n",
       "      <td>Kellyanne Conway defends Trump s  Hamilton  tw...</td>\n",
       "      <td>left-news</td>\n",
       "      <td>fake</td>\n",
       "      <td>0</td>\n",
       "      <td>b'kellyann conway defend trump hamilton twitte...</td>\n",
       "      <td>b'kellyanne conway defends trump hamilton twit...</td>\n",
       "    </tr>\n",
       "    <tr>\n",
       "      <th>8</th>\n",
       "      <td>GOP presidential candidate John Kasich would l...</td>\n",
       "      <td>News</td>\n",
       "      <td>fake</td>\n",
       "      <td>0</td>\n",
       "      <td>b'gop presidenti candid john kasich would like...</td>\n",
       "      <td>b'gop presidential candidate john kasich would...</td>\n",
       "    </tr>\n",
       "    <tr>\n",
       "      <th>9</th>\n",
       "      <td>BAKU (Reuters) - Turkey s foreign minister cal...</td>\n",
       "      <td>worldnews</td>\n",
       "      <td>true</td>\n",
       "      <td>1</td>\n",
       "      <td>b'baku reuter turkey foreign minist call wedne...</td>\n",
       "      <td>b'baku reuters turkey foreign minister called ...</td>\n",
       "    </tr>\n",
       "  </tbody>\n",
       "</table>\n",
       "</div>"
      ],
      "text/plain": [
       "                                                text       subject target  \\\n",
       "0  Pathetic Predictably impotent. We are not unit...      politics   fake   \n",
       "1  Sunday morning, after what must have seemed li...          News   fake   \n",
       "2  BEIJING/TOKYO (Reuters) - Hillary Clinton put ...  politicsNews   true   \n",
       "3  WASHINGTON (Reuters) - U.S. Secretary of State...     worldnews   true   \n",
       "4  LONDON (Reuters) - British Prime Minister Ther...     worldnews   true   \n",
       "5  Republicans are beginning to jump ship, and ar...          News   fake   \n",
       "6  There s nothing odd about Donald Trump getting...          News   fake   \n",
       "7  Kellyanne Conway defends Trump s  Hamilton  tw...     left-news   fake   \n",
       "8  GOP presidential candidate John Kasich would l...          News   fake   \n",
       "9  BAKU (Reuters) - Turkey s foreign minister cal...     worldnews   true   \n",
       "\n",
       "   target_num                                        CleanedText  \\\n",
       "0           0  b'pathet predict impot not unit divid not stan...   \n",
       "1           0  b'sunday morn must seem like anoth intermin we...   \n",
       "2           1  b'beij tokyo reuter hillari clinton put donald...   \n",
       "3           1  b'washington reuter secretari state rex tiller...   \n",
       "4           1  b'london reuter british prime minist theresa m...   \n",
       "5           0  b'republican begin jump ship becom member grow...   \n",
       "6           0  b'noth odd donald trump get blast day day medi...   \n",
       "7           0  b'kellyann conway defend trump hamilton twitte...   \n",
       "8           0  b'gop presidenti candid john kasich would like...   \n",
       "9           1  b'baku reuter turkey foreign minist call wedne...   \n",
       "\n",
       "                                  CleanedText_NoStem  \n",
       "0  b'pathetic predictably impotent not united div...  \n",
       "1  b'sunday morning must seemed like another inte...  \n",
       "2  b'beijing tokyo reuters hillary clinton put do...  \n",
       "3  b'washington reuters secretary state rex tille...  \n",
       "4  b'london reuters british prime minister theres...  \n",
       "5  b'republicans beginning jump ship becoming mem...  \n",
       "6  b'nothing odd donald trump getting blasted day...  \n",
       "7  b'kellyanne conway defends trump hamilton twit...  \n",
       "8  b'gop presidential candidate john kasich would...  \n",
       "9  b'baku reuters turkey foreign minister called ...  "
      ]
     },
     "execution_count": 22,
     "metadata": {},
     "output_type": "execute_result"
    }
   ],
   "source": [
    "data.head(10)"
   ]
  },
  {
   "cell_type": "markdown",
   "metadata": {
    "colab_type": "text",
    "id": "IxfhoPJ2pDas"
   },
   "source": [
    "# Convert words to vector"
   ]
  },
  {
   "cell_type": "markdown",
   "metadata": {
    "colab_type": "text",
    "id": "NNs6N61wpPvc"
   },
   "source": [
    "## Using Google's Trained W2Vec"
   ]
  },
  {
   "cell_type": "code",
   "execution_count": 23,
   "metadata": {
    "colab": {
     "autoexec": {
      "startup": false,
      "wait_interval": 0
     }
    },
    "colab_type": "code",
    "id": "hP5LVn4Oo0HA"
   },
   "outputs": [
    {
     "name": "stderr",
     "output_type": "stream",
     "text": [
      "C:\\Users\\Prithvi Raj Yadav\\anaconda3\\lib\\site-packages\\gensim\\similarities\\__init__.py:15: UserWarning: The gensim.similarities.levenshtein submodule is disabled, because the optional Levenshtein package <https://pypi.org/project/python-Levenshtein/> is unavailable. Install Levenhstein (e.g. `pip install python-Levenshtein`) to suppress this warning.\n",
      "  warnings.warn(msg)\n"
     ]
    }
   ],
   "source": [
    "from gensim.models import KeyedVectors\n",
    "#!wget -c \"https://s3.amazonaws.com/dl4j-distribution/GoogleNews-vectors-negative300.bin.gz\"\n",
    "w2v_model_google = KeyedVectors.load_word2vec_format('GoogleNews-vectors-negative300.bin.gz', binary=True)"
   ]
  },
  {
   "cell_type": "code",
   "execution_count": 24,
   "metadata": {
    "colab": {
     "autoexec": {
      "startup": false,
      "wait_interval": 0
     },
     "base_uri": "https://localhost:8080/",
     "height": 285
    },
    "colab_type": "code",
    "executionInfo": {
     "elapsed": 11274,
     "status": "ok",
     "timestamp": 1530932429840,
     "user": {
      "displayName": "Vijay Bhati",
      "photoUrl": "https://lh3.googleusercontent.com/a/default-user=s128",
      "userId": "106065926741616959388"
     },
     "user_tz": -330
    },
    "id": "B9BI91EyqKdo",
    "outputId": "ceb089d8-44d2-4bbd-c2e2-b6a56118f451"
   },
   "outputs": [
    {
     "data": {
      "text/plain": [
       "[('secretary', 0.7287614941596985),\n",
       " ('Assistant_Secretary', 0.7153509855270386),\n",
       " ('Undersecretary', 0.7121137380599976),\n",
       " ('Secre_tary', 0.6972907185554504),\n",
       " ('Secretery', 0.6963104009628296),\n",
       " ('Secreatry', 0.6765152812004089),\n",
       " ('ecretary', 0.671087384223938),\n",
       " ('Secretaries', 0.6705101728439331),\n",
       " ('Sectretary', 0.664540708065033),\n",
       " ('Sectary', 0.6633391976356506)]"
      ]
     },
     "execution_count": 24,
     "metadata": {},
     "output_type": "execute_result"
    }
   ],
   "source": [
    "w2v_model_google.most_similar('Secretary')\n"
   ]
  },
  {
   "cell_type": "code",
   "execution_count": 25,
   "metadata": {
    "colab": {
     "autoexec": {
      "startup": false,
      "wait_interval": 0
     },
     "base_uri": "https://localhost:8080/",
     "height": 70
    },
    "colab_type": "code",
    "executionInfo": {
     "elapsed": 1196,
     "status": "ok",
     "timestamp": 1530932431113,
     "user": {
      "displayName": "Vijay Bhati",
      "photoUrl": "https://lh3.googleusercontent.com/a/default-user=s128",
      "userId": "106065926741616959388"
     },
     "user_tz": -330
    },
    "id": "pJ5Mjl2KqU-X",
    "outputId": "211f4197-4659-4305-dbc3-b90dc078b287"
   },
   "outputs": [
    {
     "data": {
      "text/plain": [
       "300"
      ]
     },
     "execution_count": 25,
     "metadata": {},
     "output_type": "execute_result"
    }
   ],
   "source": [
    "w2v_model_google[\"word\"].size"
   ]
  },
  {
   "cell_type": "code",
   "execution_count": 26,
   "metadata": {
    "colab": {
     "autoexec": {
      "startup": false,
      "wait_interval": 0
     },
     "base_uri": "https://localhost:8080/",
     "height": 70
    },
    "colab_type": "code",
    "executionInfo": {
     "elapsed": 4845,
     "status": "ok",
     "timestamp": 1530932705951,
     "user": {
      "displayName": "Vijay Bhati",
      "photoUrl": "https://lh3.googleusercontent.com/a/default-user=s128",
      "userId": "106065926741616959388"
     },
     "user_tz": -330
    },
    "id": "Afj1Zk_yrBYb",
    "outputId": "9506a3f0-7507-412e-ca6f-4596aa7a6ddf"
   },
   "outputs": [
    {
     "name": "stderr",
     "output_type": "stream",
     "text": [
      "<ipython-input-26-3d855886a6d0>:17: RuntimeWarning: invalid value encountered in true_divide\n",
      "  sent_vec /= cnt\n"
     ]
    }
   ],
   "source": [
    "import random\n",
    "avg_vec_google = []\n",
    "datapoint = 3000\n",
    "sample_cols = random.sample(range(1, datapoint), 1001)\n",
    "\n",
    "for sent in data['CleanedText_NoStem'].values[sample_cols]:\n",
    "    cnt = 0\n",
    "    sent_vec = np.zeros(300)\n",
    "    sent = sent.decode(\"utf-8\") \n",
    "    for word in sent.split():\n",
    "        try:\n",
    "            wvec = w2v_model_google[word]\n",
    "            sent_vec += wvec\n",
    "            cnt += 1\n",
    "        except: \n",
    "            pass\n",
    "    sent_vec /= cnt\n",
    "    avg_vec_google.append(sent_vec)\n",
    "avg_vec_google = np.array(avg_vec_google)"
   ]
  },
  {
   "cell_type": "code",
   "execution_count": 27,
   "metadata": {
    "colab": {
     "autoexec": {
      "startup": false,
      "wait_interval": 0
     },
     "base_uri": "https://localhost:8080/",
     "height": 34
    },
    "colab_type": "code",
    "executionInfo": {
     "elapsed": 1555,
     "status": "ok",
     "timestamp": 1530932878605,
     "user": {
      "displayName": "Vijay Bhati",
      "photoUrl": "https://lh3.googleusercontent.com/a/default-user=s128",
      "userId": "106065926741616959388"
     },
     "user_tz": -330
    },
    "id": "E8SIUaYEtc10",
    "outputId": "184cb7ac-0b2a-4138-862e-fc3dc8d3e7ee"
   },
   "outputs": [
    {
     "data": {
      "text/plain": [
       "True"
      ]
     },
     "execution_count": 27,
     "metadata": {},
     "output_type": "execute_result"
    }
   ],
   "source": [
    "np.any(np.isnan(avg_vec_google))"
   ]
  },
  {
   "cell_type": "code",
   "execution_count": 28,
   "metadata": {
    "colab": {
     "autoexec": {
      "startup": false,
      "wait_interval": 0
     },
     "base_uri": "https://localhost:8080/",
     "height": 34
    },
    "colab_type": "code",
    "executionInfo": {
     "elapsed": 1259,
     "status": "ok",
     "timestamp": 1530932886999,
     "user": {
      "displayName": "Vijay Bhati",
      "photoUrl": "https://lh3.googleusercontent.com/a/default-user=s128",
      "userId": "106065926741616959388"
     },
     "user_tz": -330
    },
    "id": "IzKzbGejtczP",
    "outputId": "ee4d61da-f7aa-4f96-8392-bba1cc6e5537"
   },
   "outputs": [
    {
     "data": {
      "text/plain": [
       "False"
      ]
     },
     "execution_count": 28,
     "metadata": {},
     "output_type": "execute_result"
    }
   ],
   "source": [
    "np.all(np.isfinite(avg_vec_google))"
   ]
  },
  {
   "cell_type": "code",
   "execution_count": 29,
   "metadata": {
    "colab": {
     "autoexec": {
      "startup": false,
      "wait_interval": 0
     }
    },
    "colab_type": "code",
    "id": "qaNJ00rjtcvx"
   },
   "outputs": [],
   "source": [
    "col_mean = np.nanmean(avg_vec_google, axis=0)"
   ]
  },
  {
   "cell_type": "code",
   "execution_count": 30,
   "metadata": {
    "colab": {
     "autoexec": {
      "startup": false,
      "wait_interval": 0
     },
     "base_uri": "https://localhost:8080/",
     "height": 52
    },
    "colab_type": "code",
    "executionInfo": {
     "elapsed": 1219,
     "status": "ok",
     "timestamp": 1530932903196,
     "user": {
      "displayName": "Vijay Bhati",
      "photoUrl": "https://lh3.googleusercontent.com/a/default-user=s128",
      "userId": "106065926741616959388"
     },
     "user_tz": -330
    },
    "id": "RFet5pu9tcrJ",
    "outputId": "9f520da6-f435-4322-ef17-0ee1e87c9909"
   },
   "outputs": [
    {
     "data": {
      "text/plain": [
       "(array([ 47,  47,  47, ..., 841, 841, 841], dtype=int64),\n",
       " array([  0,   1,   2, ..., 297, 298, 299], dtype=int64))"
      ]
     },
     "execution_count": 30,
     "metadata": {},
     "output_type": "execute_result"
    }
   ],
   "source": [
    "inds = np.where(np.isnan(avg_vec_google)) \n",
    "inds\n"
   ]
  },
  {
   "cell_type": "code",
   "execution_count": 31,
   "metadata": {
    "colab": {
     "autoexec": {
      "startup": false,
      "wait_interval": 0
     }
    },
    "colab_type": "code",
    "id": "nAqElccTtlZX"
   },
   "outputs": [],
   "source": [
    "avg_vec_google[inds] = np.take(col_mean, inds[1])"
   ]
  },
  {
   "cell_type": "code",
   "execution_count": 32,
   "metadata": {
    "colab": {
     "autoexec": {
      "startup": false,
      "wait_interval": 0
     },
     "base_uri": "https://localhost:8080/",
     "height": 247
    },
    "colab_type": "code",
    "executionInfo": {
     "elapsed": 1305,
     "status": "ok",
     "timestamp": 1530932938158,
     "user": {
      "displayName": "Vijay Bhati",
      "photoUrl": "https://lh3.googleusercontent.com/a/default-user=s128",
      "userId": "106065926741616959388"
     },
     "user_tz": -330
    },
    "id": "MfOY7Sh5trh4",
    "outputId": "114c5086-6faf-4017-92b7-3cc5b585e422"
   },
   "outputs": [
    {
     "data": {
      "text/plain": [
       "array([[ 0.01785706,  0.01681891,  0.02592214, ..., -0.0225651 ,\n",
       "         0.03590844, -0.01415958],\n",
       "       [ 0.02139811,  0.01950536, -0.0031975 , ..., -0.03270904,\n",
       "        -0.00535581,  0.01412288],\n",
       "       [ 0.03409165,  0.04696877,  0.02103865, ..., -0.03870366,\n",
       "         0.00767943, -0.00171152],\n",
       "       ...,\n",
       "       [ 0.02186043,  0.01393979,  0.05591919, ..., -0.05780183,\n",
       "         0.04444424,  0.02680237],\n",
       "       [ 0.04348733,  0.05389517,  0.0731332 , ..., -0.04236516,\n",
       "         0.07637291, -0.01621249],\n",
       "       [-0.01733771,  0.07357532,  0.04701016, ..., -0.01302529,\n",
       "         0.04008912, -0.0053652 ]])"
      ]
     },
     "execution_count": 32,
     "metadata": {},
     "output_type": "execute_result"
    }
   ],
   "source": [
    "avg_vec_google"
   ]
  },
  {
   "cell_type": "code",
   "execution_count": 33,
   "metadata": {
    "colab": {
     "autoexec": {
      "startup": false,
      "wait_interval": 0
     }
    },
    "colab_type": "code",
    "id": "G53uHNefsF7w"
   },
   "outputs": [],
   "source": [
    "from sklearn import preprocessing\n",
    "avg_vec_google_norm = preprocessing.normalize(avg_vec_google)"
   ]
  },
  {
   "cell_type": "markdown",
   "metadata": {
    "colab_type": "text",
    "id": "jcedAZJ9uLRs"
   },
   "source": [
    "## Visualizing using TSNE"
   ]
  },
  {
   "cell_type": "code",
   "execution_count": 34,
   "metadata": {
    "colab": {
     "autoexec": {
      "startup": false,
      "wait_interval": 0
     },
     "base_uri": "https://localhost:8080/",
     "height": 565
    },
    "colab_type": "code",
    "executionInfo": {
     "elapsed": 30447,
     "status": "ok",
     "timestamp": 1530933004052,
     "user": {
      "displayName": "Vijay Bhati",
      "photoUrl": "https://lh3.googleusercontent.com/a/default-user=s128",
      "userId": "106065926741616959388"
     },
     "user_tz": -330
    },
    "id": "4zCAa-mytWKt",
    "outputId": "990d569a-02ec-4537-e4fa-cb14cb077bdc"
   },
   "outputs": [
    {
     "name": "stderr",
     "output_type": "stream",
     "text": [
      "<ipython-input-34-cf7e5d92454b>:11: FutureWarning: Support for multi-dimensional indexing (e.g. `obj[:, None]`) is deprecated and will be removed in a future version.  Convert to a numpy array before indexing instead.\n",
      "  sample_class = sample_class[:,np.newaxis]\n",
      "C:\\Users\\Prithvi Raj Yadav\\anaconda3\\lib\\site-packages\\seaborn\\axisgrid.py:316: UserWarning: The `size` parameter has been renamed to `height`; please update your code.\n",
      "  warnings.warn(msg, UserWarning)\n"
     ]
    },
    {
     "data": {
      "image/png": "[encoded data removed]",
      "text/plain": [
       "<Figure size 489.25x432 with 1 Axes>"
      ]
     },
     "metadata": {
      "needs_background": "light"
     },
     "output_type": "display_data"
    }
   ],
   "source": [
    "# Perplexity = 20\n",
    "\n",
    "from sklearn.manifold import TSNE\n",
    "import random\n",
    "\n",
    "n_samples = 1000\n",
    "sample_cols = random.sample(range(1, avg_vec_google.shape[0]), n_samples)\n",
    "sample_features = avg_vec_google[sample_cols]\n",
    "\n",
    "sample_class = data['target'][sample_cols]\n",
    "sample_class = sample_class[:,np.newaxis]\n",
    "model = TSNE(n_components=2,random_state=0,perplexity=20)\n",
    "\n",
    "embedded_data = model.fit_transform(sample_features)\n",
    "final_data = np.concatenate((embedded_data,sample_class),axis=1)\n",
    "tsne_data = pd.DataFrame(data=final_data,columns=[\"Dim1\",\"Dim2\",\"target\"])\n",
    "\n",
    "sns.FacetGrid(tsne_data,hue=\"target\",size=6).map(plt.scatter,\"Dim1\",\"Dim2\").add_legend()\n",
    "plt.show()"
   ]
  },
  {
   "cell_type": "code",
   "execution_count": 35,
   "metadata": {
    "colab": {
     "autoexec": {
      "startup": false,
      "wait_interval": 0
     },
     "base_uri": "https://localhost:8080/",
     "height": 565
    },
    "colab_type": "code",
    "executionInfo": {
     "elapsed": 34257,
     "status": "ok",
     "timestamp": 1530933069675,
     "user": {
      "displayName": "Vijay Bhati",
      "photoUrl": "https://lh3.googleusercontent.com/a/default-user=s128",
      "userId": "106065926741616959388"
     },
     "user_tz": -330
    },
    "id": "_9XpZgsft0-T",
    "outputId": "92822907-7de5-4f22-fdff-8dc78ee242c9"
   },
   "outputs": [
    {
     "name": "stderr",
     "output_type": "stream",
     "text": [
      "<ipython-input-35-df0b417dc493>:11: FutureWarning: Support for multi-dimensional indexing (e.g. `obj[:, None]`) is deprecated and will be removed in a future version.  Convert to a numpy array before indexing instead.\n",
      "  sample_class = sample_class[:,np.newaxis]\n",
      "C:\\Users\\Prithvi Raj Yadav\\anaconda3\\lib\\site-packages\\seaborn\\axisgrid.py:316: UserWarning: The `size` parameter has been renamed to `height`; please update your code.\n",
      "  warnings.warn(msg, UserWarning)\n"
     ]
    },
    {
     "data": {
      "image/png": "[encoded data removed]",
      "text/plain": [
       "<Figure size 489.25x432 with 1 Axes>"
      ]
     },
     "metadata": {
      "needs_background": "light"
     },
     "output_type": "display_data"
    }
   ],
   "source": [
    "# Perplexity = 30\n",
    "\n",
    "from sklearn.manifold import TSNE\n",
    "import random\n",
    "\n",
    "n_samples = 1000\n",
    "sample_cols = random.sample(range(1, avg_vec_google.shape[0]), n_samples)\n",
    "sample_features = avg_vec_google[sample_cols]\n",
    "\n",
    "sample_class = data['target'][sample_cols]\n",
    "sample_class = sample_class[:,np.newaxis]\n",
    "model = TSNE(n_components=2,random_state=0,perplexity=30)\n",
    "\n",
    "embedded_data = model.fit_transform(sample_features)\n",
    "final_data = np.concatenate((embedded_data,sample_class),axis=1)\n",
    "tsne_data = pd.DataFrame(data=final_data,columns=[\"Dim1\",\"Dim2\",\"target\"])\n",
    "\n",
    "sns.FacetGrid(tsne_data,hue=\"target\",size=6).map(plt.scatter,\"Dim1\",\"Dim2\").add_legend()\n",
    "plt.show()"
   ]
  },
  {
   "cell_type": "code",
   "execution_count": 36,
   "metadata": {
    "colab": {
     "autoexec": {
      "startup": false,
      "wait_interval": 0
     },
     "base_uri": "https://localhost:8080/",
     "height": 565
    },
    "colab_type": "code",
    "executionInfo": {
     "elapsed": 41555,
     "status": "ok",
     "timestamp": 1530933111250,
     "user": {
      "displayName": "Vijay Bhati",
      "photoUrl": "https://lh3.googleusercontent.com/a/default-user=s128",
      "userId": "106065926741616959388"
     },
     "user_tz": -330
    },
    "id": "yii7nK7OuED9",
    "outputId": "98906d32-f4ed-4da6-8fa5-1951627c0c3e"
   },
   "outputs": [
    {
     "name": "stderr",
     "output_type": "stream",
     "text": [
      "<ipython-input-36-d4c0d65dbc93>:11: FutureWarning: Support for multi-dimensional indexing (e.g. `obj[:, None]`) is deprecated and will be removed in a future version.  Convert to a numpy array before indexing instead.\n",
      "  sample_class = sample_class[:,np.newaxis]\n",
      "C:\\Users\\Prithvi Raj Yadav\\anaconda3\\lib\\site-packages\\seaborn\\axisgrid.py:316: UserWarning: The `size` parameter has been renamed to `height`; please update your code.\n",
      "  warnings.warn(msg, UserWarning)\n"
     ]
    },
    {
     "data": {
      "image/png": "[encoded data removed]",
      "text/plain": [
       "<Figure size 489.25x432 with 1 Axes>"
      ]
     },
     "metadata": {
      "needs_background": "light"
     },
     "output_type": "display_data"
    }
   ],
   "source": [
    "# Perplexity = 50\n",
    "\n",
    "from sklearn.manifold import TSNE\n",
    "import random\n",
    "\n",
    "n_samples = 1000\n",
    "sample_cols = random.sample(range(1, avg_vec_google.shape[0]), n_samples)\n",
    "sample_features = avg_vec_google[sample_cols]\n",
    "\n",
    "sample_class = data['target'][sample_cols]\n",
    "sample_class = sample_class[:,np.newaxis]\n",
    "model = TSNE(n_components=2,random_state=0,perplexity=50)\n",
    "\n",
    "embedded_data = model.fit_transform(sample_features)\n",
    "final_data = np.concatenate((embedded_data,sample_class),axis=1)\n",
    "tsne_data = pd.DataFrame(data=final_data,columns=[\"Dim1\",\"Dim2\",\"target\"])\n",
    "\n",
    "sns.FacetGrid(tsne_data,hue=\"target\",size=6).map(plt.scatter,\"Dim1\",\"Dim2\").add_legend()\n",
    "plt.show()"
   ]
  },
  {
   "cell_type": "code",
   "execution_count": 37,
   "metadata": {},
   "outputs": [
    {
     "name": "stderr",
     "output_type": "stream",
     "text": [
      "<ipython-input-37-89b45602513e>:11: FutureWarning: Support for multi-dimensional indexing (e.g. `obj[:, None]`) is deprecated and will be removed in a future version.  Convert to a numpy array before indexing instead.\n",
      "  sample_class = sample_class[:,np.newaxis]\n",
      "C:\\Users\\Prithvi Raj Yadav\\anaconda3\\lib\\site-packages\\seaborn\\axisgrid.py:316: UserWarning: The `size` parameter has been renamed to `height`; please update your code.\n",
      "  warnings.warn(msg, UserWarning)\n"
     ]
    },
    {
     "data": {
      "image/png": "[encoded data removed]",
      "text/plain": [
       "<Figure size 489.25x432 with 1 Axes>"
      ]
     },
     "metadata": {
      "needs_background": "light"
     },
     "output_type": "display_data"
    }
   ],
   "source": [
    "# Perplexity = 100\n",
    "\n",
    "from sklearn.manifold import TSNE\n",
    "import random\n",
    "\n",
    "n_samples = 1000\n",
    "sample_cols = random.sample(range(1, avg_vec_google.shape[0]), n_samples)\n",
    "sample_features = avg_vec_google[sample_cols]\n",
    "\n",
    "sample_class = data['target'][sample_cols]\n",
    "sample_class = sample_class[:,np.newaxis]\n",
    "model = TSNE(n_components=2,random_state=0,perplexity=100)\n",
    "\n",
    "embedded_data = model.fit_transform(sample_features)\n",
    "final_data = np.concatenate((embedded_data,sample_class),axis=1)\n",
    "tsne_data = pd.DataFrame(data=final_data,columns=[\"Dim1\",\"Dim2\",\"target\"])\n",
    "\n",
    "sns.FacetGrid(tsne_data,hue=\"target\",size=6).map(plt.scatter,\"Dim1\",\"Dim2\").add_legend()\n",
    "plt.show()"
   ]
  },
  {
   "cell_type": "code",
   "execution_count": 38,
   "metadata": {},
   "outputs": [
    {
     "name": "stderr",
     "output_type": "stream",
     "text": [
      "<ipython-input-38-60348ad45e07>:11: FutureWarning: Support for multi-dimensional indexing (e.g. `obj[:, None]`) is deprecated and will be removed in a future version.  Convert to a numpy array before indexing instead.\n",
      "  sample_class = sample_class[:,np.newaxis]\n",
      "C:\\Users\\Prithvi Raj Yadav\\anaconda3\\lib\\site-packages\\seaborn\\axisgrid.py:316: UserWarning: The `size` parameter has been renamed to `height`; please update your code.\n",
      "  warnings.warn(msg, UserWarning)\n"
     ]
    },
    {
     "data": {
      "image/png": "[encoded data removed]",
      "text/plain": [
       "<Figure size 489.25x432 with 1 Axes>"
      ]
     },
     "metadata": {
      "needs_background": "light"
     },
     "output_type": "display_data"
    }
   ],
   "source": [
    "# Perplexity = 500\n",
    "\n",
    "from sklearn.manifold import TSNE\n",
    "import random\n",
    "\n",
    "n_samples = 1000\n",
    "sample_cols = random.sample(range(1, avg_vec_google.shape[0]), n_samples)\n",
    "sample_features = avg_vec_google[sample_cols]\n",
    "\n",
    "sample_class = data['target'][sample_cols]\n",
    "sample_class = sample_class[:,np.newaxis]\n",
    "model = TSNE(n_components=2,random_state=0,perplexity=500)\n",
    "\n",
    "embedded_data = model.fit_transform(sample_features)\n",
    "final_data = np.concatenate((embedded_data,sample_class),axis=1)\n",
    "tsne_data = pd.DataFrame(data=final_data,columns=[\"Dim1\",\"Dim2\",\"target\"])\n",
    "\n",
    "sns.FacetGrid(tsne_data,hue=\"target\",size=6).map(plt.scatter,\"Dim1\",\"Dim2\").add_legend()\n",
    "plt.show()"
   ]
  },
  {
   "cell_type": "markdown",
   "metadata": {
    "colab_type": "text",
    "id": "0W9OdWlgDm5h"
   },
   "source": [
    "### Observation:-\n",
    "* We can say that there is less overlapping fake and real news points in the graph.\n",
    "* Therefore Average Word2Vec will give the best classifying the news as fake or real."
   ]
  },
  {
   "cell_type": "markdown",
   "metadata": {
    "colab_type": "text",
    "id": "4WskYMLxuI4A"
   },
   "source": [
    "# Avg Word2vec\n",
    "\n",
    "* word2vec is an algorithm for constructing vector representations of words, also known as word embeddings. The vector for each word is a semantic description of how that word is used in context, so two words that are used similarly in text will get similar vector represenations. Once you map words into vector space, you can then use vector math to find words that have similar semantics."
   ]
  },
  {
   "cell_type": "code",
   "execution_count": 39,
   "metadata": {
    "colab": {
     "autoexec": {
      "startup": false,
      "wait_interval": 0
     }
    },
    "colab_type": "code",
    "id": "h0AS28N7vIEZ"
   },
   "outputs": [],
   "source": [
    "from sklearn.base import TransformerMixin, BaseEstimator\n",
    "from gensim.models import Word2Vec\n",
    "class w2v(TransformerMixin, BaseEstimator):\n",
    "\n",
    "    def __init__(self, vector_size=100, alpha=0.025, window=5, min_count=10, max_vocab_size=None, sample=1e-3, seed=1,\n",
    "                 workers=3, min_alpha=0.0001, sg=1, hs=0, negative=5, cbow_mean=1, hashfxn=hash, epochs=5, null_word=0,\n",
    "                 trim_rule=None, sorted_vocab=1, batch_words=10000):\n",
    "        \"\"\"\n",
    "        Sklearn wrapper for Word2Vec model. See gensim.models.Word2Vec for parameter details.\n",
    "        \"\"\"\n",
    "        self.model = None\n",
    "        self.vector_size = vector_size\n",
    "        self.alpha = alpha\n",
    "        self.window = window\n",
    "        self.min_count = min_count\n",
    "        self.max_vocab_size = max_vocab_size\n",
    "        self.sample = sample\n",
    "        self.seed = seed\n",
    "        self.workers = workers\n",
    "        self.min_alpha = min_alpha\n",
    "        self.sg = sg\n",
    "        self.hs = hs\n",
    "        self.negative = negative\n",
    "        self.cbow_mean = int(cbow_mean)\n",
    "        self.hashfxn = hashfxn\n",
    "        self.epochs = epochs\n",
    "        self.null_word = null_word\n",
    "        self.trim_rule = trim_rule\n",
    "        self.sorted_vocab = sorted_vocab\n",
    "        self.batch_words = batch_words\n",
    "\n",
    "    def fit(self, X, y=None):\n",
    "        \"\"\"\n",
    "        Fit the model according to the given training data.\n",
    "        Calls gensim.models.Word2Vec\n",
    "        \"\"\"\n",
    "        X_tokenized = X.apply(lambda sent: sent.split())\n",
    "        \n",
    "        self.model = Word2Vec(\n",
    "            sentences=X_tokenized, vector_size=self.vector_size, alpha=self.alpha,\n",
    "            window=self.window, min_count=self.min_count, max_vocab_size=self.max_vocab_size,\n",
    "            sample=self.sample, seed=self.seed, workers=self.workers, min_alpha=self.min_alpha,\n",
    "            sg=self.sg, hs=self.hs, negative=self.negative, cbow_mean=self.cbow_mean, \n",
    "            hashfxn=self.hashfxn, epochs=self.epochs, null_word=self.null_word, trim_rule=self.trim_rule,\n",
    "            sorted_vocab=self.sorted_vocab, batch_words=self.batch_words\n",
    "        )\n",
    "        return self\n",
    "\n",
    "    def transform(self, X):\n",
    "        return X.apply(self.avg_word_vector)\n",
    "    \n",
    "    def avg_word_vector(self, sent):\n",
    "        \"\"\"\n",
    "        Returns an average word vector \n",
    "        from list of words\n",
    "        if words are not in the wordvector\n",
    "        vocabulary or in wordlist is \n",
    "        empty then returns a zero vector\n",
    "        \"\"\"\n",
    "        word_list = sent.split()\n",
    "        sent_vec = np.zeros(self.vector_size)\n",
    "        word_cnt = 0\n",
    "        for word in word_list:\n",
    "            try:\n",
    "                vec = self.model.wv[word]\n",
    "                sent_vec += vec\n",
    "                word_cnt += 1\n",
    "            except KeyError:\n",
    "                pass\n",
    "        if word_cnt != 0:\n",
    "            sent_vec /= word_cnt\n",
    "        return pd.Series(sent_vec)\n",
    "    \n",
    "    def most_similar(self, word):\n",
    "        return self.model.wv.most_similar(word)\n",
    "    \n",
    "    def vocabulary(self):\n",
    "        \"\"\"\n",
    "        Returns a Dataframe with \n",
    "        word as index and rows as vectors\n",
    "        \"\"\"\n",
    "        # build a list of the terms, integer indices,\n",
    "        # and term counts from the word2vec model vocabulary\n",
    "        ordered_vocab = [(term, voc.index, voc.count)\n",
    "                         for term, voc in self.model.wv.vocab.items()]\n",
    "\n",
    "        # sort by the term counts, so the most common terms appear first\n",
    "        ordered_vocab = sorted(ordered_vocab, key=lambda k : k[2], reverse=True)\n",
    "\n",
    "        # unzip the terms, integer indices, and counts into separate lists\n",
    "        ordered_terms, term_indices, term_counts = zip(*ordered_vocab)\n",
    "\n",
    "        # create a DataFrame with the word vectors as data,\n",
    "        # and the terms as row labels\n",
    "        wordvectors = pd.DataFrame(self.model.wv.vectors_norm[term_indices, :],\n",
    "                                    index=ordered_terms)\n",
    "\n",
    "        return wordvectors"
   ]
  },
  {
   "cell_type": "code",
   "execution_count": 40,
   "metadata": {
    "colab": {
     "autoexec": {
      "startup": false,
      "wait_interval": 0
     },
     "base_uri": "https://localhost:8080/",
     "height": 34
    },
    "colab_type": "code",
    "executionInfo": {
     "elapsed": 206098,
     "status": "ok",
     "timestamp": 1530933979088,
     "user": {
      "displayName": "Vijay Bhati",
      "photoUrl": "https://lh3.googleusercontent.com/a/default-user=s128",
      "userId": "106065926741616959388"
     },
     "user_tz": -330
    },
    "id": "RqNe96Sbv3Fe",
    "outputId": "240fbddb-d8aa-452b-ef96-093a2dce3e6b"
   },
   "outputs": [
    {
     "data": {
      "text/plain": [
       "(44898, 100)"
      ]
     },
     "execution_count": 40,
     "metadata": {},
     "output_type": "execute_result"
    }
   ],
   "source": [
    "w2v_model = w2v()\n",
    "w2v_features = w2v_model.fit_transform(data['text'])\n",
    "w2v_features.shape"
   ]
  },
  {
   "cell_type": "code",
   "execution_count": 41,
   "metadata": {
    "colab": {
     "autoexec": {
      "startup": false,
      "wait_interval": 0
     }
    },
    "colab_type": "code",
    "id": "vB4ZnwSTv8zm"
   },
   "outputs": [],
   "source": [
    "# from sklearn import preprocessing\n",
    "avg_w2v_norm = preprocessing.normalize(w2v_features)"
   ]
  },
  {
   "cell_type": "markdown",
   "metadata": {},
   "source": [
    "# Applying Classification Techniques"
   ]
  },
  {
   "cell_type": "code",
   "execution_count": 42,
   "metadata": {
    "colab": {
     "autoexec": {
      "startup": false,
      "wait_interval": 0
     }
    },
    "colab_type": "code",
    "id": "M_FMyrLZw-ro"
   },
   "outputs": [],
   "source": [
    "# spliting data into train and test\n",
    "from sklearn.model_selection import train_test_split\n",
    "X_train, X_test, y_train, y_test = train_test_split(avg_w2v_norm,data['target'],\n",
    "                                                   test_size=0.3, shuffle=False)"
   ]
  },
  {
   "cell_type": "markdown",
   "metadata": {
    "colab_type": "text",
    "id": "miMMrtO0Erls"
   },
   "source": [
    "# K Nearest Neighbor"
   ]
  },
  {
   "cell_type": "code",
   "execution_count": 55,
   "metadata": {
    "colab": {
     "autoexec": {
      "startup": false,
      "wait_interval": 0
     },
     "base_uri": "https://localhost:8080/",
     "height": 423
    },
    "colab_type": "code",
    "executionInfo": {
     "elapsed": 95987,
     "status": "ok",
     "timestamp": 1530934627407,
     "user": {
      "displayName": "Vijay Bhati",
      "photoUrl": "https://lh3.googleusercontent.com/a/default-user=s128",
      "userId": "106065926741616959388"
     },
     "user_tz": -330
    },
    "id": "rtZExW6YxIJQ",
    "outputId": "75306b82-e979-4bca-a7de-3c001de1b490"
   },
   "outputs": [],
   "source": [
    "# loading libraries\n",
    "import numpy as np\n",
    "import pandas as pd\n",
    "import matplotlib.pyplot as plt\n",
    "from sklearn.model_selection import train_test_split\n",
    "from sklearn.neighbors import KNeighborsClassifier\n",
    "from sklearn.metrics import accuracy_score"
   ]
  },
  {
   "cell_type": "code",
   "execution_count": 45,
   "metadata": {},
   "outputs": [
    {
     "name": "stdout",
     "output_type": "stream",
     "text": [
      "0.9749072011878248\n"
     ]
    }
   ],
   "source": [
    "# 1. Instantiating the 'estimator'\n",
    "knn = KNeighborsClassifier(n_neighbors = 5)\n",
    "\n",
    "# 2. fit the model with data, aka 'model training'\n",
    "knn.fit(X_train, y_train)\n",
    "\n",
    "# 3. Predict the response for observations being passed, here 'X-test'\n",
    "y_pred = knn.predict(X_test)\n",
    "\n",
    "# getting the testing accuracy of KNN (K=5)\n",
    "print (metrics.accuracy_score(y_test, y_pred))"
   ]
  },
  {
   "cell_type": "markdown",
   "metadata": {},
   "source": [
    "# Using different values for 'K' in KNN\n",
    "for the case k = 5 we got , accuracy = 97.49%, trying k values from 1 to 25, we get ..."
   ]
  },
  {
   "cell_type": "code",
   "execution_count": 48,
   "metadata": {},
   "outputs": [],
   "source": [
    "k_range = range(1, 26)\n",
    "scores = []\n",
    "for k in k_range:\n",
    "    knn = KNeighborsClassifier(n_neighbors = k)\n",
    "    knn.fit(X_train, y_train)\n",
    "    y_pred = knn.predict(X_test)\n",
    "    scores.append(metrics.accuracy_score(y_test, y_pred))"
   ]
  },
  {
   "cell_type": "code",
   "execution_count": 49,
   "metadata": {},
   "outputs": [
    {
     "data": {
      "text/plain": [
       "Text(0, 0.5, 'Accuracy')"
      ]
     },
     "execution_count": 49,
     "metadata": {},
     "output_type": "execute_result"
    },
    {
     "data": {
      "image/png": "[encoded data removed]",
      "text/plain": [
       "<Figure size 432x288 with 1 Axes>"
      ]
     },
     "metadata": {
      "needs_background": "light"
     },
     "output_type": "display_data"
    }
   ],
   "source": [
    "import matplotlib.pyplot as plt\n",
    "\n",
    "# for plotting the graph inside the notebook itself\n",
    "%matplotlib inline\n",
    "\n",
    "plt.plot(k_range, scores)\n",
    "plt.xlabel('Values of K')\n",
    "plt.ylabel('Accuracy')"
   ]
  },
  {
   "cell_type": "markdown",
   "metadata": {
    "colab_type": "text",
    "id": "0IDjWkUZ6EYB"
   },
   "source": [
    "## Naive Bayes"
   ]
  },
  {
   "cell_type": "code",
   "execution_count": 85,
   "metadata": {
    "colab": {
     "autoexec": {
      "startup": false,
      "wait_interval": 0
     },
     "base_uri": "https://localhost:8080/",
     "height": 34
    },
    "colab_type": "code",
    "executionInfo": {
     "elapsed": 6611,
     "status": "ok",
     "timestamp": 1530936201466,
     "user": {
      "displayName": "Vijay Bhati",
      "photoUrl": "https://lh3.googleusercontent.com/a/default-user=s128",
      "userId": "106065926741616959388"
     },
     "user_tz": -330
    },
    "id": "HCRAyrE05_ki",
    "outputId": "9cf7fec4-0d67-436c-fcef-3b05a22b493f"
   },
   "outputs": [
    {
     "data": {
      "text/plain": [
       "GaussianNB()"
      ]
     },
     "execution_count": 85,
     "metadata": {},
     "output_type": "execute_result"
    }
   ],
   "source": [
    "from sklearn.naive_bayes import GaussianNB\n",
    "from sklearn.metrics import classification_report\n",
    "clf = GaussianNB()\n",
    "clf.fit(X_train, y_train)"
   ]
  },
  {
   "cell_type": "code",
   "execution_count": 86,
   "metadata": {
    "colab": {
     "autoexec": {
      "startup": false,
      "wait_interval": 0
     },
     "base_uri": "https://localhost:8080/",
     "height": 194
    },
    "colab_type": "code",
    "executionInfo": {
     "elapsed": 2567,
     "status": "ok",
     "timestamp": 1530936210346,
     "user": {
      "displayName": "Vijay Bhati",
      "photoUrl": "https://lh3.googleusercontent.com/a/default-user=s128",
      "userId": "106065926741616959388"
     },
     "user_tz": -330
    },
    "id": "SCs8EJ9G5_eX",
    "outputId": "1cb11c5b-a227-4307-b66d-d629b803096b"
   },
   "outputs": [
    {
     "name": "stdout",
     "output_type": "stream",
     "text": [
      "Accuracy on test set: 0.922077922077922\n",
      "\n",
      "                    Classification Report\n",
      "              precision    recall  f1-score   support\n",
      "\n",
      "        fake       0.93      0.91      0.92       262\n",
      "        true       0.92      0.94      0.93       277\n",
      "\n",
      "    accuracy                           0.92       539\n",
      "   macro avg       0.92      0.92      0.92       539\n",
      "weighted avg       0.92      0.92      0.92       539\n",
      "\n"
     ]
    }
   ],
   "source": [
    "y_pred = clf.predict(X_test)\n",
    "\n",
    "print('Accuracy on test set:', accuracy_score(y_test, y_pred))\n",
    "print('\\n                    Classification Report')\n",
    "print(classification_report(y_test, y_pred))"
   ]
  },
  {
   "cell_type": "markdown",
   "metadata": {},
   "source": [
    "# Estimators"
   ]
  },
  {
   "cell_type": "code",
   "execution_count": 72,
   "metadata": {
    "colab": {
     "autoexec": {
      "startup": false,
      "wait_interval": 0
     }
    },
    "colab_type": "code",
    "id": "9GNJSf5x6xfJ"
   },
   "outputs": [],
   "source": [
    "from sklearn.model_selection import train_test_split\n",
    "from sklearn.naive_bayes import MultinomialNB\n",
    "from sklearn.naive_bayes import GaussianNB\n",
    "from sklearn.metrics import classification_report\n",
    "from sklearn.metrics import accuracy_score\n",
    "from sklearn.metrics import confusion_matrix\n",
    "from sklearn.preprocessing import Normalizer\n",
    "from sklearn.linear_model import LogisticRegression\n",
    "from sklearn.model_selection import RandomizedSearchCV"
   ]
  },
  {
   "cell_type": "code",
   "execution_count": 71,
   "metadata": {
    "colab": {
     "autoexec": {
      "startup": false,
      "wait_interval": 0
     }
    },
    "colab_type": "code",
    "id": "9fDJ6F4T7Pf8"
   },
   "outputs": [],
   "source": [
    "from sklearn.model_selection import GridSearchCV\n",
    "\n",
    "def search_param(clf, param_grid, X, y, test_size=0.3, cv=10, n_jobs=-1,\n",
    "                 random_search=False, n_iter=10, return_train_score=False):\n",
    "    \"\"\"\n",
    "    Splits the data using time based slicing\n",
    "    Performs grid search to search for optimal parameter\n",
    "    using exaustive or random search\n",
    "    Print accuracy and classification report with\n",
    "    best parameter on test set\n",
    "    \"\"\"\n",
    "    \n",
    "    # time based splitting of dataset\n",
    "    X_train, X_test, y_train, y_test = train_test_split_by_time(X, y, test_size)\n",
    "    \n",
    "    if random_search:\n",
    "        grid_search = RandomizedSearchCV(clf, param_grid, n_iter=n_iter, \n",
    "                                         n_jobs=n_jobs, verbose=1, cv=cv, \n",
    "                                         return_train_score=return_train_score)\n",
    "    else:\n",
    "        grid_search = GridSearchCV(clf, param_grid, n_jobs=n_jobs, \n",
    "                                   verbose=1, cv=cv, \n",
    "                                   return_train_score=return_train_score)\n",
    "    \n",
    "    print('Performing grid search...\\n')\n",
    "    print('Parameters:')\n",
    "    print(param_grid)\n",
    "    print()\n",
    "    \n",
    "    grid_search.fit(X_train, y_train)\n",
    "    print('\\n')\n",
    "    \n",
    "    print(\"Best CV score: %f\" % grid_search.best_score_)\n",
    "    print(\"Best parameters set:\")\n",
    "    best_parameters = grid_search.best_estimator_.get_params()\n",
    "    for param_name in sorted(param_grid.keys()):\n",
    "        print(\"\\t%s: %r\" % (param_name, best_parameters[param_name]))\n",
    "        \n",
    "    print(\"\\nTest score with best_estimator_: %f\" % grid_search.best_estimator_.score(X_test, y_test))\n",
    "    print(\"\\n\")\n",
    "    print(\"                 Classification Report Test Data\")\n",
    "    print(classification_report(y_test, grid_search.best_estimator_.predict(X_test)))\n",
    "    \n",
    "    return grid_search"
   ]
  },
  {
   "cell_type": "code",
   "execution_count": 73,
   "metadata": {
    "colab": {
     "autoexec": {
      "startup": false,
      "wait_interval": 0
     }
    },
    "colab_type": "code",
    "id": "T77vBNEO74ih"
   },
   "outputs": [],
   "source": [
    "def train_test_split_by_time(X, y, test_ratio = 0.3):\n",
    "    \"\"\"\n",
    "    y parameter needs to be a pandas series\n",
    "    with timestamp as its index\n",
    "    \"\"\"\n",
    "    \n",
    "    train_ratio = 1 - test_ratio\n",
    "    train_end = int(train_ratio * len(y))\n",
    "    \n",
    "    sorted_index = y.index.argsort()\n",
    "    train_index = sorted_index[:train_end]\n",
    "    test_index = sorted_index[train_end:]\n",
    "    \n",
    "    try:\n",
    "        return X[train_index], X[test_index], y.iloc[train_index], y.iloc[test_index]\n",
    "    except KeyError:\n",
    "        # if X is a pandas data structure\n",
    "        return X.iloc[train_index], X.iloc[test_index], y.iloc[train_index], y.iloc[test_index]"
   ]
  },
  {
   "cell_type": "code",
   "execution_count": 74,
   "metadata": {
    "colab": {
     "autoexec": {
      "startup": false,
      "wait_interval": 0
     }
    },
    "colab_type": "code",
    "id": "6wAFRHMt7Vki"
   },
   "outputs": [],
   "source": [
    "class power_uniform():\n",
    "    def __init__(self, low=0.0, high=1.0, base=10.0):\n",
    "        self.low = low\n",
    "        self.high = high\n",
    "        self.base = base\n",
    "\n",
    "    def rvs(self, random_state):\n",
    "        return self.base ** np.random.uniform(self.low, self.high)"
   ]
  },
  {
   "cell_type": "markdown",
   "metadata": {
    "colab_type": "text",
    "id": "xkXLrCTN9vlZ"
   },
   "source": [
    "# Support Vector Machine Classifier"
   ]
  },
  {
   "cell_type": "code",
   "execution_count": 78,
   "metadata": {
    "colab": {
     "autoexec": {
      "startup": false,
      "wait_interval": 0
     },
     "base_uri": "https://localhost:8080/",
     "height": 72
    },
    "colab_type": "code",
    "executionInfo": {
     "elapsed": 1459,
     "status": "ok",
     "timestamp": 1530937257728,
     "user": {
      "displayName": "Vijay Bhati",
      "photoUrl": "https://lh3.googleusercontent.com/a/default-user=s128",
      "userId": "106065926741616959388"
     },
     "user_tz": -330
    },
    "id": "JO7YWnxO7UsX",
    "outputId": "79d7e3fe-dcdf-45fb-c611-95219d5fef28"
   },
   "outputs": [],
   "source": [
    "from sklearn.svm import SVC\n",
    "X_sample, X_sam, y_sample, y_sam = train_test_split(w2v_features, data['target'], train_size=0.04)"
   ]
  },
  {
   "cell_type": "code",
   "execution_count": 79,
   "metadata": {
    "colab": {
     "autoexec": {
      "startup": false,
      "wait_interval": 0
     }
    },
    "colab_type": "code",
    "id": "CpMvrfcj6xT1"
   },
   "outputs": [],
   "source": [
    "# spliting data into train and test\n",
    "X_train, X_test, y_train, y_test = train_test_split_by_time(X_sample, y_sample)"
   ]
  },
  {
   "cell_type": "code",
   "execution_count": 80,
   "metadata": {
    "colab": {
     "autoexec": {
      "startup": false,
      "wait_interval": 0
     },
     "base_uri": "https://localhost:8080/",
     "height": 34
    },
    "colab_type": "code",
    "executionInfo": {
     "elapsed": 2329,
     "status": "ok",
     "timestamp": 1530937267995,
     "user": {
      "displayName": "Vijay Bhati",
      "photoUrl": "https://lh3.googleusercontent.com/a/default-user=s128",
      "userId": "106065926741616959388"
     },
     "user_tz": -330
    },
    "id": "HAozOhpT6xQV",
    "outputId": "528e878d-7f83-4d61-bae2-913897560483"
   },
   "outputs": [
    {
     "name": "stdout",
     "output_type": "stream",
     "text": [
      "Accuracy on test set: 0.974025974025974\n"
     ]
    }
   ],
   "source": [
    "# Train model with default hyperparameter\n",
    "clf = SVC()\n",
    "clf.fit(X_train, y_train)\n",
    "\n",
    "print('Accuracy on test set:', clf.score(X_test, y_test))"
   ]
  },
  {
   "cell_type": "code",
   "execution_count": 81,
   "metadata": {
    "colab": {
     "autoexec": {
      "startup": false,
      "wait_interval": 0
     },
     "base_uri": "https://localhost:8080/",
     "height": 34
    },
    "colab_type": "code",
    "executionInfo": {
     "elapsed": 1060,
     "status": "ok",
     "timestamp": 1530937269398,
     "user": {
      "displayName": "Vijay Bhati",
      "photoUrl": "https://lh3.googleusercontent.com/a/default-user=s128",
      "userId": "106065926741616959388"
     },
     "user_tz": -330
    },
    "id": "jXvUwXlQ6xNx",
    "outputId": "037584e5-878d-4fc8-be95-0958f305d7c0"
   },
   "outputs": [
    {
     "name": "stdout",
     "output_type": "stream",
     "text": [
      "Accuracy on test set: 0.9795918367346939\n"
     ]
    }
   ],
   "source": [
    "# Column standardization\n",
    "from sklearn.pipeline import Pipeline\n",
    "from sklearn.preprocessing import StandardScaler\n",
    "\n",
    "clf = Pipeline([('Scalar', StandardScaler(with_mean=False)),\n",
    "               ('svc', SVC())])\n",
    "clf.fit(X_train, y_train)\n",
    "print('Accuracy on test set:', clf.score(X_test, y_test))"
   ]
  },
  {
   "cell_type": "code",
   "execution_count": 82,
   "metadata": {},
   "outputs": [
    {
     "name": "stdout",
     "output_type": "stream",
     "text": [
      "Performing grid search...\n",
      "\n",
      "Parameters:\n",
      "{'svc__C': <__main__.power_uniform object at 0x000002C1CF646400>, 'svc__gamma': <__main__.power_uniform object at 0x000002C1CF646670>}\n",
      "\n",
      "Fitting 10 folds for each of 20 candidates, totalling 200 fits\n"
     ]
    },
    {
     "name": "stderr",
     "output_type": "stream",
     "text": [
      "[Parallel(n_jobs=-1)]: Using backend LokyBackend with 8 concurrent workers.\n",
      "[Parallel(n_jobs=-1)]: Done  34 tasks      | elapsed:    0.9s\n",
      "[Parallel(n_jobs=-1)]: Done 184 tasks      | elapsed:    5.1s\n",
      "[Parallel(n_jobs=-1)]: Done 200 out of 200 | elapsed:    5.3s finished\n"
     ]
    },
    {
     "name": "stdout",
     "output_type": "stream",
     "text": [
      "\n",
      "\n",
      "Best CV score: 0.992825\n",
      "Best parameters set:\n",
      "\tsvc__C: 807.3627820221791\n",
      "\tsvc__gamma: 1.0523547518825165\n",
      "\n",
      "Test score with best_estimator_: 0.985158\n",
      "\n",
      "\n",
      "                 Classification Report Test Data\n",
      "              precision    recall  f1-score   support\n",
      "\n",
      "        fake       0.98      0.98      0.98       262\n",
      "        true       0.99      0.99      0.99       277\n",
      "\n",
      "    accuracy                           0.99       539\n",
      "   macro avg       0.99      0.99      0.99       539\n",
      "weighted avg       0.99      0.99      0.99       539\n",
      "\n"
     ]
    }
   ],
   "source": [
    "# Using Random search\n",
    "param_grid = {\n",
    "    'svc__C': power_uniform(-4, 4),\n",
    "    'svc__gamma': power_uniform(-4, 4)\n",
    "}\n",
    "\n",
    "clf = Pipeline([\n",
    "    ('norm', Normalizer()),\n",
    "    ('svc', SVC())\n",
    "])\n",
    "\n",
    "best_svm = search_param(clf, param_grid, X_sample, y_sample, random_search=True, n_iter=20)"
   ]
  },
  {
   "cell_type": "code",
   "execution_count": 83,
   "metadata": {
    "colab": {
     "autoexec": {
      "startup": false,
      "wait_interval": 0
     },
     "base_uri": "https://localhost:8080/",
     "height": 461
    },
    "colab_type": "code",
    "executionInfo": {
     "elapsed": 4969,
     "status": "ok",
     "timestamp": 1530937277820,
     "user": {
      "displayName": "Vijay Bhati",
      "photoUrl": "https://lh3.googleusercontent.com/a/default-user=s128",
      "userId": "106065926741616959388"
     },
     "user_tz": -330
    },
    "id": "ZQQAG1Ta6xIA",
    "outputId": "eb71668d-caba-434d-8a8a-a247d1d97ecf"
   },
   "outputs": [
    {
     "name": "stdout",
     "output_type": "stream",
     "text": [
      "Performing grid search...\n",
      "\n",
      "Parameters:\n",
      "{'svc__C': array([1.e-04, 1.e-03, 1.e-02, 1.e-01, 1.e+00, 1.e+01, 1.e+02, 1.e+03]), 'svc__gamma': array([1.e-04, 1.e-03, 1.e-02, 1.e-01, 1.e+00, 1.e+01, 1.e+02, 1.e+03])}\n",
      "\n",
      "Fitting 10 folds for each of 64 candidates, totalling 640 fits\n"
     ]
    },
    {
     "name": "stderr",
     "output_type": "stream",
     "text": [
      "[Parallel(n_jobs=-1)]: Using backend LokyBackend with 8 concurrent workers.\n",
      "[Parallel(n_jobs=-1)]: Done  34 tasks      | elapsed:    1.1s\n",
      "[Parallel(n_jobs=-1)]: Done 184 tasks      | elapsed:    5.1s\n",
      "[Parallel(n_jobs=-1)]: Done 476 tasks      | elapsed:   11.8s\n"
     ]
    },
    {
     "name": "stdout",
     "output_type": "stream",
     "text": [
      "\n",
      "\n",
      "Best CV score: 0.993619\n",
      "Best parameters set:\n",
      "\tsvc__C: 100.0\n",
      "\tsvc__gamma: 1.0\n",
      "\n",
      "Test score with best_estimator_: 0.985158\n",
      "\n",
      "\n",
      "                 Classification Report Test Data\n",
      "              precision    recall  f1-score   support\n",
      "\n",
      "        fake       0.98      0.98      0.98       262\n",
      "        true       0.99      0.99      0.99       277\n",
      "\n",
      "    accuracy                           0.99       539\n",
      "   macro avg       0.99      0.99      0.99       539\n",
      "weighted avg       0.99      0.99      0.99       539\n",
      "\n"
     ]
    },
    {
     "name": "stderr",
     "output_type": "stream",
     "text": [
      "[Parallel(n_jobs=-1)]: Done 640 out of 640 | elapsed:   14.5s finished\n"
     ]
    }
   ],
   "source": [
    "# Using Grid search\n",
    "from sklearn.preprocessing import Normalizer\n",
    "from sklearn.model_selection import GridSearchCV\n",
    "param_grid = {\n",
    "    'svc__C': 10.0 ** np.arange(-4, 4),\n",
    "    'svc__gamma': 10.0 ** np.arange(-4, 4)\n",
    "}\n",
    "\n",
    "clf = Pipeline([\n",
    "    ('norm', Normalizer()),\n",
    "    ('svc', SVC())\n",
    "])\n",
    "\n",
    "best_svm = search_param(clf, param_grid, X_sample, y_sample)"
   ]
  },
  {
   "cell_type": "code",
   "execution_count": 87,
   "metadata": {
    "colab": {
     "autoexec": {
      "startup": false,
      "wait_interval": 0
     },
     "base_uri": "https://localhost:8080/",
     "height": 342
    },
    "colab_type": "code",
    "executionInfo": {
     "elapsed": 1176,
     "status": "ok",
     "timestamp": 1530939155054,
     "user": {
      "displayName": "Vijay Bhati",
      "photoUrl": "https://lh3.googleusercontent.com/a/default-user=s128",
      "userId": "106065926741616959388"
     },
     "user_tz": -330
    },
    "id": "bxnkgxUcDzX0",
    "outputId": "e710e9fc-ce4b-44a5-a62e-fbc80c99aec6"
   },
   "outputs": [
    {
     "data": {
      "image/png": "[encoded data removed]",
      "text/plain": [
       "<Figure size 432x288 with 1 Axes>"
      ]
     },
     "metadata": {
      "needs_background": "light"
     },
     "output_type": "display_data"
    }
   ],
   "source": [
    "model_accuracy = {\n",
    "    'K-NN': 0.9749,\n",
    "    'Naive-Bayes': 0.9220,\n",
    "    'SVM': 0.9851\n",
    "}\n",
    "\n",
    "pd.Series(model_accuracy).plot(kind='bar')\n",
    "plt.ylabel('Accuracy Score')\n",
    "plt.ylim((0.70, 0.93));"
   ]
  }
 ],
 "metadata": {
  "accelerator": "GPU",
  "colab": {
   "collapsed_sections": [],
   "default_view": {},
   "name": "Fake News.ipynb",
   "provenance": [],
   "version": "0.3.2",
   "views": {}
  },
  "kernelspec": {
   "display_name": "Python 3",
   "language": "python",
   "name": "python3"
  },
  "language_info": {
   "codemirror_mode": {
    "name": "ipython",
    "version": 3
   },
   "file_extension": ".py",
   "mimetype": "text/x-python",
   "name": "python",
   "nbconvert_exporter": "python",
   "pygments_lexer": "ipython3",
   "version": "3.8.5"
  }
 },
 "nbformat": 4,
 "nbformat_minor": 1
}
